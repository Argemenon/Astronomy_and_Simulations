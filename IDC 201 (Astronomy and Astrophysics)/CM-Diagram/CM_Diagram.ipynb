{
 "cells": [
  {
   "cell_type": "code",
   "execution_count": 1,
   "metadata": {},
   "outputs": [],
   "source": [
    "import numpy as np\n",
    "import matplotlib.pyplot as plt\n",
    "import pandas as pd"
   ]
  },
  {
   "cell_type": "code",
   "execution_count": null,
   "metadata": {},
   "outputs": [],
   "source": [
    "data1 = pd.read_csv('Book2.csv')\n",
    "data1.columns = ['Name', 'Mag', 'Colour']\n",
    "#print(data)\n",
    "\n",
    "plt.figure(figsize=(8,6))\n",
    "\n",
    "plt.scatter(data1.Mag, data1.Colour, marker='.')\n",
    "# plt.yticks(data.Colour)\n",
    "plt.xticks(np.arange(12,24,1))\n",
    "plt.yticks(np.arange(0.5,1.5,0.1))\n",
    "\n",
    "plt.xlabel('Magnitude')\n",
    "plt.ylabel('Colour')\n",
    "plt.title('Colour-Magnitude Diagram (47Tuc)')\n",
    "plt.grid(True, linestyle= '--')"
   ]
  },
  {
   "cell_type": "code",
   "execution_count": null,
   "metadata": {},
   "outputs": [],
   "source": [
    "data2 = pd.read_csv('pleadiess.csv')\n",
    "data2.columns = ['Name', 'Mag', 'Colour']\n",
    "#print(data)\n",
    "\n",
    "plt.figure(figsize=(7,5))\n",
    "\n",
    "plt.scatter(data2.Mag, data2.Colour, marker='.', label = 'Pleadies', color = 'red')\n",
    "plt.scatter(data1.Mag, data1.Colour, marker='+', label = '47 Tuc', color = 'blue')\n",
    "# plt.yticks(data.Colour)\n",
    "plt.xticks(np.arange(2,24,1))\n",
    "plt.yticks(np.arange(-0.2,1.5,0.1))\n",
    "\n",
    "plt.xlabel('Magnitude')\n",
    "plt.ylabel('Colour')\n",
    "plt.title('Colour-Magnitude Diagram')\n",
    "plt.grid(True, linestyle= '--')\n",
    "plt.legend()"
   ]
  }
 ],
 "metadata": {
  "kernelspec": {
   "display_name": "opencv",
   "language": "python",
   "name": "python3"
  },
  "language_info": {
   "codemirror_mode": {
    "name": "ipython",
    "version": 3
   },
   "file_extension": ".py",
   "mimetype": "text/x-python",
   "name": "python",
   "nbconvert_exporter": "python",
   "pygments_lexer": "ipython3",
   "version": "3.8.20"
  }
 },
 "nbformat": 4,
 "nbformat_minor": 2
}
