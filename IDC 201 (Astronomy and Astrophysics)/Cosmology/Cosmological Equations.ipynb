{
 "cells": [
  {
   "cell_type": "code",
   "id": "initial_id",
   "metadata": {
    "collapsed": true,
    "ExecuteTime": {
     "end_time": "2025-04-14T03:20:26.225713Z",
     "start_time": "2025-04-14T03:20:25.347782Z"
    }
   },
   "source": "import sympy as sp",
   "outputs": [],
   "execution_count": 1
  },
  {
   "metadata": {
    "ExecuteTime": {
     "end_time": "2025-04-14T03:35:08.333759Z",
     "start_time": "2025-04-14T03:35:08.329439Z"
    }
   },
   "cell_type": "code",
   "source": [
    "t = sp.Symbol('t', real=True)\n",
    "H = sp.Symbol('{H_0}^2', real=True)\n",
    "O1 = sp.Symbol('Omega_R', real=True)\n",
    "O2 = sp.Symbol('Omega_M', real=True)\n",
    "O3 = sp.Symbol('Omega_A', real=True)\n",
    "\n",
    "a = sp.Function('a')(t)\n",
    "a_dot = sp.diff(a, t)"
   ],
   "id": "d212736175571dc7",
   "outputs": [],
   "execution_count": 46
  },
  {
   "metadata": {
    "ExecuteTime": {
     "end_time": "2025-04-14T03:35:08.865981Z",
     "start_time": "2025-04-14T03:35:08.854316Z"
    }
   },
   "cell_type": "code",
   "source": [
    "diff_eq = sp.Eq(a_dot**2/a**2 , H*((O1/a**4) + (O2/a**3) + O3))\n",
    "\n",
    "diff_eq"
   ],
   "id": "89aefa63b0d97051",
   "outputs": [
    {
     "data": {
      "text/plain": [
       "Eq(Derivative(a(t), t)**2/a(t)**2, {H_0}^2*(Omega_A + Omega_M/a(t)**3 + Omega_R/a(t)**4))"
      ],
      "text/latex": "$\\displaystyle \\frac{\\left(\\frac{d}{d t} a{\\left(t \\right)}\\right)^{2}}{a^{2}{\\left(t \\right)}} = {H_0}^2 \\left(\\Omega_{A} + \\frac{\\Omega_{M}}{a^{3}{\\left(t \\right)}} + \\frac{\\Omega_{R}}{a^{4}{\\left(t \\right)}}\\right)$"
     },
     "execution_count": 47,
     "metadata": {},
     "output_type": "execute_result"
    }
   ],
   "execution_count": 47
  },
  {
   "metadata": {
    "ExecuteTime": {
     "end_time": "2025-04-14T03:39:39.874967Z",
     "start_time": "2025-04-14T03:39:39.862314Z"
    }
   },
   "cell_type": "code",
   "source": [
    "diff_eq1 = sp.Eq(a_dot**2/a**2 , H*((O1/a**4)))\n",
    "\n",
    "diff_eq1"
   ],
   "id": "f1585c5cf5ca8569",
   "outputs": [
    {
     "data": {
      "text/plain": [
       "Eq(Derivative(a(t), t)**2/a(t)**2, Omega_R*{H_0}^2/a(t)**4)"
      ],
      "text/latex": "$\\displaystyle \\frac{\\left(\\frac{d}{d t} a{\\left(t \\right)}\\right)^{2}}{a^{2}{\\left(t \\right)}} = \\frac{\\Omega_{R} {H_0}^2}{a^{4}{\\left(t \\right)}}$"
     },
     "execution_count": 55,
     "metadata": {},
     "output_type": "execute_result"
    }
   ],
   "execution_count": 55
  },
  {
   "metadata": {
    "ExecuteTime": {
     "end_time": "2025-04-14T03:40:23.496038Z",
     "start_time": "2025-04-14T03:40:21.929259Z"
    }
   },
   "cell_type": "code",
   "source": [
    "sol = sp.dsolve(diff_eq1, a)\n",
    "\n",
    "sol[3]"
   ],
   "id": "d1a341d32f548d8f",
   "outputs": [
    {
     "data": {
      "text/plain": [
       "Eq(a(t), sqrt(C1 + 2*t*sqrt(Omega_R*{H_0}^2)))"
      ],
      "text/latex": "$\\displaystyle a{\\left(t \\right)} = \\sqrt{C_{1} + 2 t \\sqrt{\\Omega_{R} {H_0}^2}}$"
     },
     "execution_count": 60,
     "metadata": {},
     "output_type": "execute_result"
    }
   ],
   "execution_count": 60
  },
  {
   "metadata": {
    "ExecuteTime": {
     "end_time": "2025-04-14T03:41:32.234037Z",
     "start_time": "2025-04-14T03:41:32.220567Z"
    }
   },
   "cell_type": "code",
   "source": [
    "diff_eq2 = sp.Eq(a_dot**2/a**2 , H*((O2/a**3)))\n",
    "\n",
    "diff_eq2"
   ],
   "id": "ee131590cd9af202",
   "outputs": [
    {
     "data": {
      "text/plain": [
       "Eq(Derivative(a(t), t)**2/a(t)**2, Omega_M*{H_0}^2/a(t)**3)"
      ],
      "text/latex": "$\\displaystyle \\frac{\\left(\\frac{d}{d t} a{\\left(t \\right)}\\right)^{2}}{a^{2}{\\left(t \\right)}} = \\frac{\\Omega_{M} {H_0}^2}{a^{3}{\\left(t \\right)}}$"
     },
     "execution_count": 61,
     "metadata": {},
     "output_type": "execute_result"
    }
   ],
   "execution_count": 61
  },
  {
   "metadata": {
    "ExecuteTime": {
     "end_time": "2025-04-14T03:43:02.326921Z",
     "start_time": "2025-04-14T03:42:32.282273Z"
    }
   },
   "cell_type": "code",
   "source": [
    "sol2 = sp.dsolve(diff_eq2, a)\n",
    "\n",
    "sol2[0]"
   ],
   "id": "d6cff8fc3557f74f",
   "outputs": [
    {
     "data": {
      "text/plain": [
       "Eq(a(t), 2**(1/3)*3**(2/3)*(Omega_M*{H_0}^2)**(1/3)*(C1 + t)**(2/3)/2)"
      ],
      "text/latex": "$\\displaystyle a{\\left(t \\right)} = \\frac{\\sqrt[3]{2} \\cdot 3^{\\frac{2}{3}} \\sqrt[3]{\\Omega_{M} {H_0}^2} \\left(C_{1} + t\\right)^{\\frac{2}{3}}}{2}$"
     },
     "execution_count": 63,
     "metadata": {},
     "output_type": "execute_result"
    }
   ],
   "execution_count": 63
  },
  {
   "metadata": {
    "ExecuteTime": {
     "end_time": "2025-04-14T03:43:35.606501Z",
     "start_time": "2025-04-14T03:43:35.597062Z"
    }
   },
   "cell_type": "code",
   "source": [
    "diff_eq3 = sp.Eq(a_dot**2/a**2 , H*(O3))\n",
    "\n",
    "diff_eq3"
   ],
   "id": "2c28eeedd280f4c5",
   "outputs": [
    {
     "data": {
      "text/plain": [
       "Eq(Derivative(a(t), t)**2/a(t)**2, Omega_A*{H_0}^2)"
      ],
      "text/latex": "$\\displaystyle \\frac{\\left(\\frac{d}{d t} a{\\left(t \\right)}\\right)^{2}}{a^{2}{\\left(t \\right)}} = \\Omega_{A} {H_0}^2$"
     },
     "execution_count": 64,
     "metadata": {},
     "output_type": "execute_result"
    }
   ],
   "execution_count": 64
  },
  {
   "metadata": {
    "ExecuteTime": {
     "end_time": "2025-04-14T03:43:59.634931Z",
     "start_time": "2025-04-14T03:43:59.528499Z"
    }
   },
   "cell_type": "code",
   "source": [
    "sol3 = sp.dsolve(diff_eq3, a)\n",
    "\n",
    "sol3[1]"
   ],
   "id": "81b10692ac39815d",
   "outputs": [
    {
     "data": {
      "text/plain": [
       "Eq(a(t), C1*exp(t*sqrt(Omega_A*{H_0}^2)))"
      ],
      "text/latex": "$\\displaystyle a{\\left(t \\right)} = C_{1} e^{t \\sqrt{\\Omega_{A} {H_0}^2}}$"
     },
     "execution_count": 66,
     "metadata": {},
     "output_type": "execute_result"
    }
   ],
   "execution_count": 66
  },
  {
   "metadata": {},
   "cell_type": "markdown",
   "source": "## Two at a time",
   "id": "b5d534b51e3bd017"
  },
  {
   "metadata": {
    "ExecuteTime": {
     "end_time": "2025-04-14T03:45:42.051388Z",
     "start_time": "2025-04-14T03:45:42.040658Z"
    }
   },
   "cell_type": "code",
   "source": [
    "diff_eq4 = sp.Eq(a_dot**2/a**2 , H*((O2/a**3) + O3))\n",
    "\n",
    "diff_eq4"
   ],
   "id": "a0efe5001ca75811",
   "outputs": [
    {
     "data": {
      "text/plain": [
       "Eq(Derivative(a(t), t)**2/a(t)**2, {H_0}^2*(Omega_A + Omega_M/a(t)**3))"
      ],
      "text/latex": "$\\displaystyle \\frac{\\left(\\frac{d}{d t} a{\\left(t \\right)}\\right)^{2}}{a^{2}{\\left(t \\right)}} = {H_0}^2 \\left(\\Omega_{A} + \\frac{\\Omega_{M}}{a^{3}{\\left(t \\right)}}\\right)$"
     },
     "execution_count": 67,
     "metadata": {},
     "output_type": "execute_result"
    }
   ],
   "execution_count": 67
  },
  {
   "metadata": {
    "ExecuteTime": {
     "end_time": "2025-04-14T03:47:13.423405Z",
     "start_time": "2025-04-14T03:45:59.117425Z"
    }
   },
   "cell_type": "code",
   "source": [
    "sol4 = sp.dsolve(diff_eq4, a)\n",
    "\n",
    "sol4"
   ],
   "id": "c6743beb16d1e320",
   "outputs": [
    {
     "data": {
      "text/plain": [
       "[Eq(Integral(1/sqrt({H_0}^2*(_y**2*Omega_A + Omega_M/_y)), (_y, a(t))), C1 - t),\n",
       " Eq(Integral(1/sqrt({H_0}^2*(_y**2*Omega_A + Omega_M/_y)), (_y, a(t))), C1 + t)]"
      ]
     },
     "execution_count": 68,
     "metadata": {},
     "output_type": "execute_result"
    }
   ],
   "execution_count": 68
  },
  {
   "metadata": {
    "ExecuteTime": {
     "end_time": "2025-04-14T03:47:23.468401Z",
     "start_time": "2025-04-14T03:47:23.462047Z"
    }
   },
   "cell_type": "code",
   "source": "sol4[0]",
   "id": "61549168c50c5b22",
   "outputs": [
    {
     "data": {
      "text/plain": [
       "Eq(Integral(1/sqrt({H_0}^2*(_y**2*Omega_A + Omega_M/_y)), (_y, a(t))), C1 - t)"
      ],
      "text/latex": "$\\displaystyle \\int\\limits^{a{\\left(t \\right)}} \\frac{1}{\\sqrt{{H_0}^2 \\left(y^{2} \\Omega_{A} + \\frac{\\Omega_{M}}{y}\\right)}}\\, dy = C_{1} - t$"
     },
     "execution_count": 69,
     "metadata": {},
     "output_type": "execute_result"
    }
   ],
   "execution_count": 69
  },
  {
   "metadata": {},
   "cell_type": "code",
   "outputs": [],
   "execution_count": null,
   "source": "",
   "id": "23328c717bc9ecc6"
  }
 ],
 "metadata": {
  "kernelspec": {
   "display_name": "Python 3",
   "language": "python",
   "name": "python3"
  },
  "language_info": {
   "codemirror_mode": {
    "name": "ipython",
    "version": 2
   },
   "file_extension": ".py",
   "mimetype": "text/x-python",
   "name": "python",
   "nbconvert_exporter": "python",
   "pygments_lexer": "ipython2",
   "version": "2.7.6"
  }
 },
 "nbformat": 4,
 "nbformat_minor": 5
}
