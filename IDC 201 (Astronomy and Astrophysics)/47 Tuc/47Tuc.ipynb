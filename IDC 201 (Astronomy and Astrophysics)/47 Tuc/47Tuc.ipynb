{
 "cells": [
  {
   "cell_type": "code",
   "execution_count": 2,
   "metadata": {},
   "outputs": [],
   "source": [
    "import numpy as np\n",
    "import matplotlib.pyplot as plt\n",
    "import pandas as pd"
   ]
  },
  {
   "cell_type": "code",
   "execution_count": 3,
   "metadata": {},
   "outputs": [
    {
     "name": "stdout",
     "output_type": "stream",
     "text": [
      "    10610    23  1.45\n",
      "0   10489  22.6  1.33\n",
      "1   10359  22.2  1.23\n",
      "2   10335  22.0  1.31\n",
      "3   10278  21.6  1.23\n",
      "4   20364  21.6  1.20\n",
      "5   20335  21.4  1.10\n",
      "6   10200  21.0  1.05\n",
      "7   10206  21.0  0.96\n",
      "8   10170  20.6  0.98\n",
      "9   20239  20.4  0.93\n",
      "10  20210  20.1  0.88\n",
      "11  20185  19.8  0.83\n",
      "12  10012  19.6  0.76\n",
      "13  20130  19.1  0.69\n",
      "14  20104  18.8  0.65\n",
      "15  20070  18.4  0.60\n",
      "16  20049  18.0  0.57\n",
      "17  20034  17.7  0.58\n",
      "18  20028  17.6  0.53\n",
      "19  41456  17.2  0.51\n",
      "20  41107  17.0  0.58\n",
      "21  41051  16.9  0.70\n",
      "22  40821  16.6  0.73\n",
      "23  40628  16.2  0.73\n",
      "24  30103  15.5  0.82\n",
      "25  40351  14.9  0.85\n",
      "26  40130  14.0  0.99\n",
      "27  40135  14.0  0.69\n",
      "28  40144  14.0  0.79\n",
      "29  40164  14.0  0.59\n",
      "30  30014  13.5  1.10\n",
      "31  40043  12.9  1.14\n",
      "32  40022  12.6  1.25\n",
      "33  40002  12.0  1.45\n"
     ]
    }
   ],
   "source": [
    "# Load the file with NumPy\n",
    "data = pd.read_csv('D:\\\\Personal Programs\\\\IDC 201\\\\47 Tuc\\\\finalcluster data.csv')\n",
    "\n",
    "print(data)"
   ]
  },
  {
   "cell_type": "code",
   "execution_count": 5,
   "metadata": {},
   "outputs": [],
   "source": [
    "data.columns = ['Name', 'Mag', 'Color']"
   ]
  },
  {
   "cell_type": "code",
   "execution_count": 6,
   "metadata": {},
   "outputs": [
    {
     "data": {
      "text/plain": [
       "0     10489\n",
       "1     10359\n",
       "2     10335\n",
       "3     10278\n",
       "4     20364\n",
       "5     20335\n",
       "6     10200\n",
       "7     10206\n",
       "8     10170\n",
       "9     20239\n",
       "10    20210\n",
       "11    20185\n",
       "12    10012\n",
       "13    20130\n",
       "14    20104\n",
       "15    20070\n",
       "16    20049\n",
       "17    20034\n",
       "18    20028\n",
       "19    41456\n",
       "20    41107\n",
       "21    41051\n",
       "22    40821\n",
       "23    40628\n",
       "24    30103\n",
       "25    40351\n",
       "26    40130\n",
       "27    40135\n",
       "28    40144\n",
       "29    40164\n",
       "30    30014\n",
       "31    40043\n",
       "32    40022\n",
       "33    40002\n",
       "Name: Name, dtype: int64"
      ]
     },
     "execution_count": 6,
     "metadata": {},
     "output_type": "execute_result"
    }
   ],
   "source": [
    "data.Name"
   ]
  }
 ],
 "metadata": {
  "kernelspec": {
   "display_name": "opencv",
   "language": "python",
   "name": "python3"
  },
  "language_info": {
   "codemirror_mode": {
    "name": "ipython",
    "version": 3
   },
   "file_extension": ".py",
   "mimetype": "text/x-python",
   "name": "python",
   "nbconvert_exporter": "python",
   "pygments_lexer": "ipython3",
   "version": "3.8.20"
  }
 },
 "nbformat": 4,
 "nbformat_minor": 2
}
