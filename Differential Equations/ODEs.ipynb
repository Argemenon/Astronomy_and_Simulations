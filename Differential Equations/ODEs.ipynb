{
 "cells": [
  {
   "cell_type": "code",
   "execution_count": null,
   "id": "initial_id",
   "metadata": {
    "collapsed": true
   },
   "outputs": [],
   "source": [
    "# import statements\n",
    "from sympy import *\n",
    "from sympy.physics.mechanics import *\n",
    "\n",
    "# enable latex printing\n",
    "init_vprinting()"
   ]
  },
  {
   "metadata": {},
   "cell_type": "markdown",
   "source": "Let us create a setup first",
   "id": "846918b8a6c455b1"
  }
 ],
 "metadata": {
  "kernelspec": {
   "display_name": "Python 3",
   "language": "python",
   "name": "python3"
  },
  "language_info": {
   "codemirror_mode": {
    "name": "ipython",
    "version": 2
   },
   "file_extension": ".py",
   "mimetype": "text/x-python",
   "name": "python",
   "nbconvert_exporter": "python",
   "pygments_lexer": "ipython2",
   "version": "2.7.6"
  }
 },
 "nbformat": 4,
 "nbformat_minor": 5
}
