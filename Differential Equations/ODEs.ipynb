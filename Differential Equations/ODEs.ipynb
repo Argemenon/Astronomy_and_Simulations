{
 "cells": [
  {
   "cell_type": "code",
   "id": "initial_id",
   "metadata": {
    "collapsed": true,
    "ExecuteTime": {
     "end_time": "2025-03-31T04:54:09.858684Z",
     "start_time": "2025-03-31T04:54:09.088064Z"
    }
   },
   "source": "import sympy as sp",
   "outputs": [],
   "execution_count": 1
  },
  {
   "metadata": {
    "ExecuteTime": {
     "end_time": "2025-03-31T04:58:51.353871Z",
     "start_time": "2025-03-31T04:58:51.346932Z"
    }
   },
   "cell_type": "code",
   "source": [
    "x = sp.Symbol('x')\n",
    "\n",
    "y = sp.Function('y')(x)\n",
    "y"
   ],
   "id": "8f765ab0dce4fe0a",
   "outputs": [
    {
     "data": {
      "text/plain": [
       "y(x)"
      ],
      "text/latex": "$\\displaystyle y{\\left(x \\right)}$"
     },
     "execution_count": 6,
     "metadata": {},
     "output_type": "execute_result"
    }
   ],
   "execution_count": 6
  },
  {
   "metadata": {
    "ExecuteTime": {
     "end_time": "2025-03-31T05:00:10.040578Z",
     "start_time": "2025-03-31T05:00:10.031175Z"
    }
   },
   "cell_type": "code",
   "source": [
    "# Defining the ODE\n",
    "\n",
    "ode = sp.Eq(y.diff(x, x) - 2*x*y.diff(x) + 4*y , 0)\n",
    "ode"
   ],
   "id": "a5e05be00038a24f",
   "outputs": [
    {
     "data": {
      "text/plain": [
       "Eq(-2*x*Derivative(y(x), x) + 4*y(x) + Derivative(y(x), (x, 2)), 0)"
      ],
      "text/latex": "$\\displaystyle - 2 x \\frac{d}{d x} y{\\left(x \\right)} + 4 y{\\left(x \\right)} + \\frac{d^{2}}{d x^{2}} y{\\left(x \\right)} = 0$"
     },
     "execution_count": 8,
     "metadata": {},
     "output_type": "execute_result"
    }
   ],
   "execution_count": 8
  },
  {
   "metadata": {
    "ExecuteTime": {
     "end_time": "2025-03-31T05:00:55.320625Z",
     "start_time": "2025-03-31T05:00:53.977392Z"
    }
   },
   "cell_type": "code",
   "source": "sp.dsolve(ode, y)",
   "id": "e7d890669dc2d2db",
   "outputs": [
    {
     "data": {
      "text/plain": [
       "Eq(y(x), C2*(1 - 2*x**2) + C1*x*(1 - x**2/3) + O(x**6))"
      ],
      "text/latex": "$\\displaystyle y{\\left(x \\right)} = C_{2} \\left(1 - 2 x^{2}\\right) + C_{1} x \\left(1 - \\frac{x^{2}}{3}\\right) + O\\left(x^{6}\\right)$"
     },
     "execution_count": 9,
     "metadata": {},
     "output_type": "execute_result"
    }
   ],
   "execution_count": 9
  },
  {
   "metadata": {
    "ExecuteTime": {
     "end_time": "2025-03-31T05:02:32.197759Z",
     "start_time": "2025-03-31T05:02:32.189517Z"
    }
   },
   "cell_type": "code",
   "source": [
    "ode2 = sp.Eq(y.diff(x, x) + 4*y, sp.tan(2*x))\n",
    "ode2"
   ],
   "id": "979775b36233f680",
   "outputs": [
    {
     "data": {
      "text/plain": [
       "Eq(4*y(x) + Derivative(y(x), (x, 2)), tan(2*x))"
      ],
      "text/latex": "$\\displaystyle 4 y{\\left(x \\right)} + \\frac{d^{2}}{d x^{2}} y{\\left(x \\right)} = \\tan{\\left(2 x \\right)}$"
     },
     "execution_count": 12,
     "metadata": {},
     "output_type": "execute_result"
    }
   ],
   "execution_count": 12
  },
  {
   "metadata": {
    "ExecuteTime": {
     "end_time": "2025-03-31T05:02:58.054669Z",
     "start_time": "2025-03-31T05:02:57.348258Z"
    }
   },
   "cell_type": "code",
   "source": "sp.dsolve(ode2, y)",
   "id": "6d5afa0a5d72de96",
   "outputs": [
    {
     "data": {
      "text/plain": [
       "Eq(y(x), C2*sin(2*x) + (C1 + log(sin(2*x) - 1)/8 - log(sin(2*x) + 1)/8)*cos(2*x))"
      ],
      "text/latex": "$\\displaystyle y{\\left(x \\right)} = C_{2} \\sin{\\left(2 x \\right)} + \\left(C_{1} + \\frac{\\log{\\left(\\sin{\\left(2 x \\right)} - 1 \\right)}}{8} - \\frac{\\log{\\left(\\sin{\\left(2 x \\right)} + 1 \\right)}}{8}\\right) \\cos{\\left(2 x \\right)}$"
     },
     "execution_count": 13,
     "metadata": {},
     "output_type": "execute_result"
    }
   ],
   "execution_count": 13
  },
  {
   "metadata": {
    "ExecuteTime": {
     "end_time": "2025-03-31T05:04:51.213459Z",
     "start_time": "2025-03-31T05:04:51.200457Z"
    }
   },
   "cell_type": "code",
   "source": [
    "ode3 = sp.Eq( (1 - x**2)*y.diff(x,x) - x*y.diff(x) + 16*y, 0)\n",
    "ode3"
   ],
   "id": "a5124f655d1c256e",
   "outputs": [
    {
     "data": {
      "text/plain": [
       "Eq(-x*Derivative(y(x), x) + (1 - x**2)*Derivative(y(x), (x, 2)) + 16*y(x), 0)"
      ],
      "text/latex": "$\\displaystyle - x \\frac{d}{d x} y{\\left(x \\right)} + \\left(1 - x^{2}\\right) \\frac{d^{2}}{d x^{2}} y{\\left(x \\right)} + 16 y{\\left(x \\right)} = 0$"
     },
     "execution_count": 14,
     "metadata": {},
     "output_type": "execute_result"
    }
   ],
   "execution_count": 14
  },
  {
   "metadata": {
    "ExecuteTime": {
     "end_time": "2025-03-31T05:07:22.242114Z",
     "start_time": "2025-03-31T05:07:21.703675Z"
    }
   },
   "cell_type": "code",
   "source": [
    "sol = sp.dsolve(ode3, y)\n",
    "sol"
   ],
   "id": "29d94b29013a82",
   "outputs": [
    {
     "data": {
      "text/plain": [
       "Eq(y(x), C2*(8*x**4 - 8*x**2 + 1) + C1*x*(1 - 5*x**2/2) + O(x**6))"
      ],
      "text/latex": "$\\displaystyle y{\\left(x \\right)} = C_{2} \\left(8 x^{4} - 8 x^{2} + 1\\right) + C_{1} x \\left(1 - \\frac{5 x^{2}}{2}\\right) + O\\left(x^{6}\\right)$"
     },
     "execution_count": 23,
     "metadata": {},
     "output_type": "execute_result"
    }
   ],
   "execution_count": 23
  },
  {
   "metadata": {
    "ExecuteTime": {
     "end_time": "2025-03-31T05:07:50.983299Z",
     "start_time": "2025-03-31T05:07:50.949432Z"
    }
   },
   "cell_type": "code",
   "source": "sol.rhs.series(x, 0, n=6)",
   "id": "c2144deb5a18bd0a",
   "outputs": [
    {
     "data": {
      "text/plain": [
       "C2 - 8*C2*x**2 + 8*C2*x**4 + C1*x - 5*C1*x**3/2 + O(x**6)"
      ],
      "text/latex": "$\\displaystyle C_{2} - 8 C_{2} x^{2} + 8 C_{2} x^{4} + C_{1} x - \\frac{5 C_{1} x^{3}}{2} + O\\left(x^{6}\\right)$"
     },
     "execution_count": 27,
     "metadata": {},
     "output_type": "execute_result"
    }
   ],
   "execution_count": 27
  }
 ],
 "metadata": {
  "kernelspec": {
   "display_name": "Python 3",
   "language": "python",
   "name": "python3"
  },
  "language_info": {
   "codemirror_mode": {
    "name": "ipython",
    "version": 2
   },
   "file_extension": ".py",
   "mimetype": "text/x-python",
   "name": "python",
   "nbconvert_exporter": "python",
   "pygments_lexer": "ipython2",
   "version": "2.7.6"
  }
 },
 "nbformat": 4,
 "nbformat_minor": 5
}
