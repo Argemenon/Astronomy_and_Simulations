{
 "cells": [
  {
   "cell_type": "code",
   "id": "initial_id",
   "metadata": {
    "collapsed": true,
    "ExecuteTime": {
     "end_time": "2025-05-03T17:09:15.316614Z",
     "start_time": "2025-05-03T17:09:15.313324Z"
    }
   },
   "source": [
    "import sympy as sp\n",
    "\n",
    "x = sp.Symbol('x')"
   ],
   "outputs": [],
   "execution_count": 22
  },
  {
   "metadata": {
    "ExecuteTime": {
     "end_time": "2025-05-03T16:05:51.583047Z",
     "start_time": "2025-05-03T16:05:51.576060Z"
    }
   },
   "cell_type": "code",
   "source": [
    "y = sp.Function('y')(x)\n",
    "y"
   ],
   "id": "fd7950ffcbf618fb",
   "outputs": [
    {
     "data": {
      "text/plain": [
       "y(x)"
      ],
      "text/latex": "$\\displaystyle y{\\left(x \\right)}$"
     },
     "execution_count": 3,
     "metadata": {},
     "output_type": "execute_result"
    }
   ],
   "execution_count": 3
  },
  {
   "metadata": {
    "ExecuteTime": {
     "end_time": "2025-05-03T16:06:06.422406Z",
     "start_time": "2025-05-03T16:06:06.413141Z"
    }
   },
   "cell_type": "code",
   "source": "y.diff()",
   "id": "fb76a3af226bd162",
   "outputs": [
    {
     "data": {
      "text/plain": [
       "Derivative(y(x), x)"
      ],
      "text/latex": "$\\displaystyle \\frac{d}{d x} y{\\left(x \\right)}$"
     },
     "execution_count": 4,
     "metadata": {},
     "output_type": "execute_result"
    }
   ],
   "execution_count": 4
  },
  {
   "metadata": {
    "ExecuteTime": {
     "end_time": "2025-05-03T16:07:36.252207Z",
     "start_time": "2025-05-03T16:07:36.186573Z"
    }
   },
   "cell_type": "code",
   "source": [
    "diff_eq = sp.Eq(y.diff(), (2*x*y)/(x**2 - y**2))\n",
    "diff_eq"
   ],
   "id": "efbb4242433bd9a5",
   "outputs": [
    {
     "data": {
      "text/plain": [
       "Eq(Derivative(y(x), x), 2*x*y(x)/(x**2 - y(x)**2))"
      ],
      "text/latex": "$\\displaystyle \\frac{d}{d x} y{\\left(x \\right)} = \\frac{2 x y{\\left(x \\right)}}{x^{2} - y^{2}{\\left(x \\right)}}$"
     },
     "execution_count": 5,
     "metadata": {},
     "output_type": "execute_result"
    }
   ],
   "execution_count": 5
  },
  {
   "metadata": {
    "ExecuteTime": {
     "end_time": "2025-05-03T17:09:58.051240Z",
     "start_time": "2025-05-03T17:09:56.227332Z"
    }
   },
   "cell_type": "code",
   "source": [
    "sol = sp.dsolve(diff_eq, y)\n",
    "sol"
   ],
   "id": "47ffe8a5c8a18321",
   "outputs": [
    {
     "data": {
      "text/plain": [
       "[Eq(y(x), -sqrt(-4*x**2 + exp(2*C1))/2 + exp(C1)/2),\n",
       " Eq(y(x), sqrt(-4*x**2 + exp(2*C1))/2 + exp(C1)/2)]"
      ]
     },
     "execution_count": 26,
     "metadata": {},
     "output_type": "execute_result"
    }
   ],
   "execution_count": 26
  },
  {
   "metadata": {
    "ExecuteTime": {
     "end_time": "2025-05-03T17:09:59.953775Z",
     "start_time": "2025-05-03T17:09:59.945037Z"
    }
   },
   "cell_type": "code",
   "source": "sol[0]",
   "id": "f181b6d5fe389ffe",
   "outputs": [
    {
     "data": {
      "text/plain": [
       "Eq(y(x), -sqrt(-4*x**2 + exp(2*C1))/2 + exp(C1)/2)"
      ],
      "text/latex": "$\\displaystyle y{\\left(x \\right)} = - \\frac{\\sqrt{- 4 x^{2} + e^{2 C_{1}}}}{2} + \\frac{e^{C_{1}}}{2}$"
     },
     "execution_count": 27,
     "metadata": {},
     "output_type": "execute_result"
    }
   ],
   "execution_count": 27
  },
  {
   "metadata": {
    "ExecuteTime": {
     "end_time": "2025-05-03T17:13:44.294993Z",
     "start_time": "2025-05-03T17:13:44.288597Z"
    }
   },
   "cell_type": "code",
   "source": [
    "ics = {y.subs(x, 0): 0}\n",
    "ics"
   ],
   "id": "1201ed8714d2cb1d",
   "outputs": [
    {
     "data": {
      "text/plain": [
       "{y(0): 0}"
      ]
     },
     "execution_count": 32,
     "metadata": {},
     "output_type": "execute_result"
    }
   ],
   "execution_count": 32
  },
  {
   "metadata": {
    "ExecuteTime": {
     "end_time": "2025-05-03T17:13:45.908010Z",
     "start_time": "2025-05-03T17:13:45.899959Z"
    }
   },
   "cell_type": "code",
   "source": [
    "diff_eq2 = sp.Eq(y.diff(), (x + y**2) )\n",
    "diff_eq2"
   ],
   "id": "76ef44d84d2745dd",
   "outputs": [
    {
     "data": {
      "text/plain": [
       "Eq(Derivative(y(x), x), x + y(x)**2)"
      ],
      "text/latex": "$\\displaystyle \\frac{d}{d x} y{\\left(x \\right)} = x + y^{2}{\\left(x \\right)}$"
     },
     "execution_count": 33,
     "metadata": {},
     "output_type": "execute_result"
    }
   ],
   "execution_count": 33
  },
  {
   "metadata": {
    "ExecuteTime": {
     "end_time": "2025-05-03T17:14:12.208904Z",
     "start_time": "2025-05-03T17:14:12.048920Z"
    }
   },
   "cell_type": "code",
   "source": [
    "ivp = sp.dsolve(diff_eq2, ics = ics)\n",
    "ivp"
   ],
   "id": "1f4827d3760ef31c",
   "outputs": [
    {
     "ename": "TypeError",
     "evalue": "bad operand type for unary -: 'list'",
     "output_type": "error",
     "traceback": [
      "\u001B[1;31m---------------------------------------------------------------------------\u001B[0m",
      "\u001B[1;31mTypeError\u001B[0m                                 Traceback (most recent call last)",
      "Cell \u001B[1;32mIn[34], line 1\u001B[0m\n\u001B[1;32m----> 1\u001B[0m ivp \u001B[38;5;241m=\u001B[39m \u001B[43msp\u001B[49m\u001B[38;5;241;43m.\u001B[39;49m\u001B[43mdsolve\u001B[49m\u001B[43m(\u001B[49m\u001B[43mdiff_eq2\u001B[49m\u001B[43m,\u001B[49m\u001B[43m \u001B[49m\u001B[43mics\u001B[49m\u001B[43m \u001B[49m\u001B[38;5;241;43m=\u001B[39;49m\u001B[43m \u001B[49m\u001B[43mics\u001B[49m\u001B[43m)\u001B[49m\n\u001B[0;32m      2\u001B[0m ivp\n",
      "File \u001B[1;32mD:\\ANACONDA\\envs\\simulation\\Lib\\site-packages\\sympy\\solvers\\ode\\ode.py:640\u001B[0m, in \u001B[0;36mdsolve\u001B[1;34m(eq, func, hint, simplify, ics, xi, eta, x0, n, **kwargs)\u001B[0m\n\u001B[0;32m    637\u001B[0m \u001B[38;5;28;01melse\u001B[39;00m:\n\u001B[0;32m    638\u001B[0m     \u001B[38;5;66;03m# The key 'hint' stores the hint needed to be solved for.\u001B[39;00m\n\u001B[0;32m    639\u001B[0m     hint \u001B[38;5;241m=\u001B[39m hints[\u001B[38;5;124m'\u001B[39m\u001B[38;5;124mhint\u001B[39m\u001B[38;5;124m'\u001B[39m]\n\u001B[1;32m--> 640\u001B[0m     \u001B[38;5;28;01mreturn\u001B[39;00m \u001B[43m_helper_simplify\u001B[49m\u001B[43m(\u001B[49m\u001B[43meq\u001B[49m\u001B[43m,\u001B[49m\u001B[43m \u001B[49m\u001B[43mhint\u001B[49m\u001B[43m,\u001B[49m\u001B[43m \u001B[49m\u001B[43mhints\u001B[49m\u001B[43m,\u001B[49m\u001B[43m \u001B[49m\u001B[43msimplify\u001B[49m\u001B[43m,\u001B[49m\u001B[43m \u001B[49m\u001B[43mics\u001B[49m\u001B[38;5;241;43m=\u001B[39;49m\u001B[43mics\u001B[49m\u001B[43m)\u001B[49m\n",
      "File \u001B[1;32mD:\\ANACONDA\\envs\\simulation\\Lib\\site-packages\\sympy\\solvers\\ode\\ode.py:670\u001B[0m, in \u001B[0;36m_helper_simplify\u001B[1;34m(eq, hint, match, simplify, ics, **kwargs)\u001B[0m\n\u001B[0;32m    665\u001B[0m \u001B[38;5;28;01mif\u001B[39;00m simplify:\n\u001B[0;32m    666\u001B[0m     \u001B[38;5;66;03m# odesimp() will attempt to integrate, if necessary, apply constantsimp(),\u001B[39;00m\n\u001B[0;32m    667\u001B[0m     \u001B[38;5;66;03m# attempt to solve for func, and apply any other hint specific\u001B[39;00m\n\u001B[0;32m    668\u001B[0m     \u001B[38;5;66;03m# simplifications\u001B[39;00m\n\u001B[0;32m    669\u001B[0m     \u001B[38;5;28;01mif\u001B[39;00m \u001B[38;5;28misinstance\u001B[39m(solvefunc, SingleODESolver):\n\u001B[1;32m--> 670\u001B[0m         sols \u001B[38;5;241m=\u001B[39m \u001B[43msolvefunc\u001B[49m\u001B[38;5;241;43m.\u001B[39;49m\u001B[43mget_general_solution\u001B[49m\u001B[43m(\u001B[49m\u001B[43m)\u001B[49m\n\u001B[0;32m    671\u001B[0m     \u001B[38;5;28;01melse\u001B[39;00m:\n\u001B[0;32m    672\u001B[0m         sols \u001B[38;5;241m=\u001B[39m solvefunc(eq, func, order, match)\n",
      "File \u001B[1;32mD:\\ANACONDA\\envs\\simulation\\Lib\\site-packages\\sympy\\solvers\\ode\\single.py:283\u001B[0m, in \u001B[0;36mSingleODESolver.get_general_solution\u001B[1;34m(self, simplify)\u001B[0m\n\u001B[0;32m    281\u001B[0m     msg \u001B[38;5;241m=\u001B[39m \u001B[38;5;124m\"\u001B[39m\u001B[38;5;132;01m%s\u001B[39;00m\u001B[38;5;124m solver cannot solve:\u001B[39m\u001B[38;5;130;01m\\n\u001B[39;00m\u001B[38;5;132;01m%s\u001B[39;00m\u001B[38;5;124m\"\u001B[39m\n\u001B[0;32m    282\u001B[0m     \u001B[38;5;28;01mraise\u001B[39;00m ODEMatchError(msg \u001B[38;5;241m%\u001B[39m (\u001B[38;5;28mself\u001B[39m\u001B[38;5;241m.\u001B[39mhint, \u001B[38;5;28mself\u001B[39m\u001B[38;5;241m.\u001B[39mode_problem\u001B[38;5;241m.\u001B[39meq))\n\u001B[1;32m--> 283\u001B[0m \u001B[38;5;28;01mreturn\u001B[39;00m \u001B[38;5;28;43mself\u001B[39;49m\u001B[38;5;241;43m.\u001B[39;49m\u001B[43m_get_general_solution\u001B[49m\u001B[43m(\u001B[49m\u001B[43msimplify_flag\u001B[49m\u001B[38;5;241;43m=\u001B[39;49m\u001B[43msimplify\u001B[49m\u001B[43m)\u001B[49m\n",
      "File \u001B[1;32mD:\\ANACONDA\\envs\\simulation\\Lib\\site-packages\\sympy\\solvers\\ode\\single.py:1043\u001B[0m, in \u001B[0;36mRationalRiccati._get_general_solution\u001B[1;34m(self, simplify_flag)\u001B[0m\n\u001B[0;32m   1041\u001B[0m fx \u001B[38;5;241m=\u001B[39m \u001B[38;5;28mself\u001B[39m\u001B[38;5;241m.\u001B[39mode_problem\u001B[38;5;241m.\u001B[39mfunc\n\u001B[0;32m   1042\u001B[0m x \u001B[38;5;241m=\u001B[39m \u001B[38;5;28mself\u001B[39m\u001B[38;5;241m.\u001B[39mode_problem\u001B[38;5;241m.\u001B[39msym\n\u001B[1;32m-> 1043\u001B[0m \u001B[38;5;28;01mreturn\u001B[39;00m \u001B[43msolve_riccati\u001B[49m\u001B[43m(\u001B[49m\u001B[43mfx\u001B[49m\u001B[43m,\u001B[49m\u001B[43m \u001B[49m\u001B[43mx\u001B[49m\u001B[43m,\u001B[49m\u001B[43m \u001B[49m\u001B[43mb0\u001B[49m\u001B[43m,\u001B[49m\u001B[43m \u001B[49m\u001B[43mb1\u001B[49m\u001B[43m,\u001B[49m\u001B[43m \u001B[49m\u001B[43mb2\u001B[49m\u001B[43m,\u001B[49m\u001B[43m \u001B[49m\u001B[43mgensol\u001B[49m\u001B[38;5;241;43m=\u001B[39;49m\u001B[38;5;28;43;01mTrue\u001B[39;49;00m\u001B[43m)\u001B[49m\n",
      "File \u001B[1;32mD:\\ANACONDA\\envs\\simulation\\Lib\\site-packages\\sympy\\solvers\\ode\\riccati.py:892\u001B[0m, in \u001B[0;36msolve_riccati\u001B[1;34m(fx, x, b0, b1, b2, gensol)\u001B[0m\n\u001B[0;32m    889\u001B[0m     sols \u001B[38;5;241m=\u001B[39m [get_gen_sol_from_part_sol(sols, a, x)]\n\u001B[0;32m    891\u001B[0m \u001B[38;5;66;03m# Inverse transform the particular solutions\u001B[39;00m\n\u001B[1;32m--> 892\u001B[0m presol \u001B[38;5;241m=\u001B[39m [Eq(fx, \u001B[43mriccati_inverse_normal\u001B[49m\u001B[43m(\u001B[49m\u001B[43my\u001B[49m\u001B[43m,\u001B[49m\u001B[43m \u001B[49m\u001B[43mx\u001B[49m\u001B[43m,\u001B[49m\u001B[43m \u001B[49m\u001B[43mb1\u001B[49m\u001B[43m,\u001B[49m\u001B[43m \u001B[49m\u001B[43mb2\u001B[49m\u001B[43m,\u001B[49m\u001B[43m \u001B[49m\u001B[43mbp\u001B[49m\u001B[43m)\u001B[49m\u001B[38;5;241m.\u001B[39mcancel(extension\u001B[38;5;241m=\u001B[39m\u001B[38;5;28;01mTrue\u001B[39;00m)) \u001B[38;5;28;01mfor\u001B[39;00m y \u001B[38;5;129;01min\u001B[39;00m sols]\n\u001B[0;32m    893\u001B[0m \u001B[38;5;28;01mreturn\u001B[39;00m presol\n",
      "File \u001B[1;32mD:\\ANACONDA\\envs\\simulation\\Lib\\site-packages\\sympy\\solvers\\ode\\riccati.py:246\u001B[0m, in \u001B[0;36mriccati_inverse_normal\u001B[1;34m(y, x, b1, b2, bp)\u001B[0m\n\u001B[0;32m    244\u001B[0m     bp \u001B[38;5;241m=\u001B[39m \u001B[38;5;241m-\u001B[39mb2\u001B[38;5;241m.\u001B[39mdiff(x)\u001B[38;5;241m/\u001B[39m(\u001B[38;5;241m2\u001B[39m\u001B[38;5;241m*\u001B[39mb2\u001B[38;5;241m*\u001B[39m\u001B[38;5;241m*\u001B[39m\u001B[38;5;241m2\u001B[39m) \u001B[38;5;241m-\u001B[39m b1\u001B[38;5;241m/\u001B[39m(\u001B[38;5;241m2\u001B[39m\u001B[38;5;241m*\u001B[39mb2)\n\u001B[0;32m    245\u001B[0m \u001B[38;5;66;03m# w(x) = -y(x)/b2(x) - b2'(x)/(2*b2(x)^2) - b1(x)/(2*b2(x))\u001B[39;00m\n\u001B[1;32m--> 246\u001B[0m \u001B[38;5;28;01mreturn\u001B[39;00m \u001B[38;5;241;43m-\u001B[39;49m\u001B[43my\u001B[49m\u001B[38;5;241m/\u001B[39mb2 \u001B[38;5;241m+\u001B[39m bp\n",
      "\u001B[1;31mTypeError\u001B[0m: bad operand type for unary -: 'list'"
     ]
    }
   ],
   "execution_count": 34
  }
 ],
 "metadata": {
  "kernelspec": {
   "display_name": "Python 3",
   "language": "python",
   "name": "python3"
  },
  "language_info": {
   "codemirror_mode": {
    "name": "ipython",
    "version": 2
   },
   "file_extension": ".py",
   "mimetype": "text/x-python",
   "name": "python",
   "nbconvert_exporter": "python",
   "pygments_lexer": "ipython2",
   "version": "2.7.6"
  }
 },
 "nbformat": 4,
 "nbformat_minor": 5
}
