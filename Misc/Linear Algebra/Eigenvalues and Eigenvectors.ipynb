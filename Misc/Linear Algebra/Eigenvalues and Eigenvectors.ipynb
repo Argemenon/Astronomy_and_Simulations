{
 "cells": [
  {
   "cell_type": "code",
   "id": "7f71e9b24e4b4bc4",
   "metadata": {},
   "source": "import sympy as sp",
   "execution_count": null,
   "outputs": []
  },
  {
   "metadata": {
    "ExecuteTime": {
     "end_time": "2025-05-04T03:34:31.065645Z",
     "start_time": "2025-05-04T03:34:31.059766Z"
    }
   },
   "cell_type": "code",
   "source": [
    "A = sp.Matrix([[4, 2],\n",
    "               [1, 3]])\n",
    "A"
   ],
   "id": "8b1d8608a6a69ab4",
   "outputs": [
    {
     "data": {
      "text/plain": [
       "Matrix([\n",
       "[4, 2],\n",
       "[1, 3]])"
      ],
      "text/latex": "$\\displaystyle \\left[\\begin{matrix}4 & 2\\\\1 & 3\\end{matrix}\\right]$"
     },
     "execution_count": 15,
     "metadata": {},
     "output_type": "execute_result"
    }
   ],
   "execution_count": 15
  },
  {
   "metadata": {
    "ExecuteTime": {
     "end_time": "2025-05-04T03:34:49.652722Z",
     "start_time": "2025-05-04T03:34:49.645183Z"
    }
   },
   "cell_type": "code",
   "source": [
    "eig_data = A.eigenvects()\n",
    "eig_data"
   ],
   "id": "initial_id",
   "outputs": [
    {
     "data": {
      "text/plain": [
       "[(2,\n",
       "  1,\n",
       "  [Matrix([\n",
       "   [-1],\n",
       "   [ 1]])]),\n",
       " (5,\n",
       "  1,\n",
       "  [Matrix([\n",
       "   [2],\n",
       "   [1]])])]"
      ]
     },
     "execution_count": 16,
     "metadata": {},
     "output_type": "execute_result"
    }
   ],
   "execution_count": 16
  },
  {
   "metadata": {
    "ExecuteTime": {
     "end_time": "2025-05-04T03:37:42.438325Z",
     "start_time": "2025-05-04T03:37:42.433081Z"
    }
   },
   "cell_type": "code",
   "source": "sp.pprint(eig_data[0][2][0])",
   "id": "1d2f2ca53c3dee9",
   "outputs": [
    {
     "name": "stdout",
     "output_type": "stream",
     "text": [
      "⎡-1⎤\n",
      "⎢  ⎥\n",
      "⎣1 ⎦\n"
     ]
    }
   ],
   "execution_count": 24
  },
  {
   "metadata": {
    "ExecuteTime": {
     "end_time": "2025-05-04T03:38:21.420526Z",
     "start_time": "2025-05-04T03:38:21.413605Z"
    }
   },
   "cell_type": "code",
   "source": [
    "# Define your matrix\n",
    "A = sp.Matrix([\n",
    "    [4, 2],\n",
    "    [1, 3]\n",
    "])\n",
    "\n",
    "# Compute eigenvalue/eigenvector data\n",
    "eigen_data = A.eigenvects()\n",
    "\n",
    "# Extract one eigenvector from each tuple\n",
    "eigenvecs = [data[2][0] for data in eigen_data]\n",
    "\n",
    "# Stack them as columns to form the eigenvector matrix V\n",
    "V = sp.Matrix.hstack(*eigenvecs)\n",
    "\n",
    "# Display the result\n",
    "print(\"Eigenvector matrix V:\")\n",
    "sp.pprint(V)"
   ],
   "id": "a61dffbe829cd693",
   "outputs": [
    {
     "name": "stdout",
     "output_type": "stream",
     "text": [
      "Eigenvector matrix V:\n",
      "⎡-1  2⎤\n",
      "⎢     ⎥\n",
      "⎣1   1⎦\n"
     ]
    }
   ],
   "execution_count": 26
  },
  {
   "metadata": {
    "ExecuteTime": {
     "end_time": "2025-05-04T03:39:08.343187Z",
     "start_time": "2025-05-04T03:39:08.334618Z"
    }
   },
   "cell_type": "code",
   "source": [
    "import sympy as sp\n",
    "from IPython.display import display, Math\n",
    "\n",
    "# No need to init_printing here if you use Math()\n",
    "# Define A and compute V as above\n",
    "A = sp.Matrix([[4, 2],\n",
    "               [1, 3]])\n",
    "eigen_data = A.eigenvects()\n",
    "eigenvecs = [data[2][0] for data in eigen_data]\n",
    "V = sp.Matrix.hstack(*eigenvecs)\n",
    "\n",
    "# Convert to LaTeX and display\n",
    "latex_str = sp.latex(V)\n",
    "display(Math(r\"V = \" + latex_str))\n"
   ],
   "id": "b06b2bd9aab4bbda",
   "outputs": [
    {
     "data": {
      "text/plain": [
       "<IPython.core.display.Math object>"
      ],
      "text/latex": "$\\displaystyle V = \\left[\\begin{matrix}-1 & 2\\\\1 & 1\\end{matrix}\\right]$"
     },
     "metadata": {},
     "output_type": "display_data"
    }
   ],
   "execution_count": 27
  },
  {
   "metadata": {
    "ExecuteTime": {
     "end_time": "2025-05-04T03:39:26.457024Z",
     "start_time": "2025-05-04T03:39:23.924860Z"
    }
   },
   "cell_type": "code",
   "source": [
    "import sympy as sp\n",
    "\n",
    "# Turn on pretty printing (unicode mode)\n",
    "sp.init_printing(use_unicode=True)\n",
    "\n",
    "# Define the matrix\n",
    "A = sp.Matrix([[4, 2],\n",
    "               [1, 3]])\n",
    "\n",
    "# Build the eigenvector matrix V as before\n",
    "eigen_data = A.eigenvects()\n",
    "eigenvecs = [data[2][0] for data in eigen_data]\n",
    "V = sp.Matrix.hstack(*eigenvecs)\n",
    "\n",
    "# Simply evaluate V in a Jupyter cell:\n",
    "V\n"
   ],
   "id": "3895b942bd55599c",
   "outputs": [
    {
     "data": {
      "text/plain": [
       "⎡-1  2⎤\n",
       "⎢     ⎥\n",
       "⎣1   1⎦"
      ],
      "text/latex": "$\\displaystyle \\left[\\begin{matrix}-1 & 2\\\\1 & 1\\end{matrix}\\right]$"
     },
     "execution_count": 28,
     "metadata": {},
     "output_type": "execute_result"
    }
   ],
   "execution_count": 28
  }
 ],
 "metadata": {
  "kernelspec": {
   "display_name": "Python 3",
   "language": "python",
   "name": "python3"
  },
  "language_info": {
   "codemirror_mode": {
    "name": "ipython",
    "version": 2
   },
   "file_extension": ".py",
   "mimetype": "text/x-python",
   "name": "python",
   "nbconvert_exporter": "python",
   "pygments_lexer": "ipython2",
   "version": "2.7.6"
  }
 },
 "nbformat": 4,
 "nbformat_minor": 5
}
