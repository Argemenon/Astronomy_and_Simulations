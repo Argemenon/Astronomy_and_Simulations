{
 "cells": [
  {
   "metadata": {},
   "cell_type": "markdown",
   "source": "# Integrals",
   "id": "70a7701a18736d40"
  },
  {
   "cell_type": "code",
   "id": "initial_id",
   "metadata": {
    "collapsed": true,
    "ExecuteTime": {
     "end_time": "2025-03-30T15:52:17.693080Z",
     "start_time": "2025-03-30T15:52:17.033673Z"
    }
   },
   "source": [
    "import sympy as sp\n",
    "\n",
    "# Variables\n",
    "x, y, z = sp.symbols('x y z', real=True)\n",
    "C = sp.symbols('C')"
   ],
   "outputs": [],
   "execution_count": 2
  },
  {
   "metadata": {},
   "cell_type": "markdown",
   "source": "## Indefinite Integrals",
   "id": "177bac6fdcf96436"
  },
  {
   "metadata": {},
   "cell_type": "markdown",
   "source": "### Example 1",
   "id": "292fa52e6bf0df7f"
  },
  {
   "metadata": {
    "ExecuteTime": {
     "end_time": "2025-03-30T15:52:19.553335Z",
     "start_time": "2025-03-30T15:52:19.539860Z"
    }
   },
   "cell_type": "code",
   "source": [
    "# Defining the funciton\n",
    "f = sp.cos(2 * x) * sp.sin(3 * x)\n",
    "f"
   ],
   "id": "23f21b52d2493ee4",
   "outputs": [
    {
     "data": {
      "text/plain": [
       "sin(3*x)*cos(2*x)"
      ],
      "text/latex": "$\\displaystyle \\sin{\\left(3 x \\right)} \\cos{\\left(2 x \\right)}$"
     },
     "execution_count": 3,
     "metadata": {},
     "output_type": "execute_result"
    }
   ],
   "execution_count": 3
  },
  {
   "metadata": {
    "ExecuteTime": {
     "end_time": "2025-03-30T15:53:41.767083Z",
     "start_time": "2025-03-30T15:53:41.733312Z"
    }
   },
   "cell_type": "code",
   "source": [
    "# Integrate the function\n",
    "sp.integrate(f)"
   ],
   "id": "ea7ad1734c8738e9",
   "outputs": [
    {
     "data": {
      "text/plain": [
       "-2*sin(2*x)*sin(3*x)/5 - 3*cos(2*x)*cos(3*x)/5"
      ],
      "text/latex": "$\\displaystyle - \\frac{2 \\sin{\\left(2 x \\right)} \\sin{\\left(3 x \\right)}}{5} - \\frac{3 \\cos{\\left(2 x \\right)} \\cos{\\left(3 x \\right)}}{5}$"
     },
     "execution_count": 6,
     "metadata": {},
     "output_type": "execute_result"
    }
   ],
   "execution_count": 6
  },
  {
   "metadata": {
    "ExecuteTime": {
     "end_time": "2025-03-30T15:54:13.799152Z",
     "start_time": "2025-03-30T15:54:13.765227Z"
    }
   },
   "cell_type": "code",
   "source": [
    "# We may emphasize the variable x\n",
    "\n",
    "sp.integrate(f, x)"
   ],
   "id": "3cf4ba242c3b36d2",
   "outputs": [
    {
     "data": {
      "text/plain": [
       "-2*sin(2*x)*sin(3*x)/5 - 3*cos(2*x)*cos(3*x)/5"
      ],
      "text/latex": "$\\displaystyle - \\frac{2 \\sin{\\left(2 x \\right)} \\sin{\\left(3 x \\right)}}{5} - \\frac{3 \\cos{\\left(2 x \\right)} \\cos{\\left(3 x \\right)}}{5}$"
     },
     "execution_count": 7,
     "metadata": {},
     "output_type": "execute_result"
    }
   ],
   "execution_count": 7
  },
  {
   "metadata": {},
   "cell_type": "markdown",
   "source": "### Example 2",
   "id": "597a47c8ad22bea4"
  },
  {
   "metadata": {
    "ExecuteTime": {
     "end_time": "2025-03-30T15:54:52.148198Z",
     "start_time": "2025-03-30T15:54:52.142131Z"
    }
   },
   "cell_type": "code",
   "source": [
    "# Two dimensional function\n",
    "\n",
    "g = x ** y\n",
    "g"
   ],
   "id": "115284b0cf8a6dcd",
   "outputs": [
    {
     "data": {
      "text/plain": [
       "x**y"
      ],
      "text/latex": "$\\displaystyle x^{y}$"
     },
     "execution_count": 8,
     "metadata": {},
     "output_type": "execute_result"
    }
   ],
   "execution_count": 8
  },
  {
   "metadata": {
    "ExecuteTime": {
     "end_time": "2025-03-30T15:55:16.008737Z",
     "start_time": "2025-03-30T15:55:16.001207Z"
    }
   },
   "cell_type": "code",
   "source": [
    "# Integrating wrt x\n",
    "\n",
    "h = sp.integrate(g, x)\n",
    "h"
   ],
   "id": "68f168d3a15233c2",
   "outputs": [
    {
     "data": {
      "text/plain": [
       "Piecewise((x**(y + 1)/(y + 1), Ne(y, -1)), (log(x), True))"
      ],
      "text/latex": "$\\displaystyle \\begin{cases} \\frac{x^{y + 1}}{y + 1} & \\text{for}\\: y \\neq -1 \\\\\\log{\\left(x \\right)} & \\text{otherwise} \\end{cases}$"
     },
     "execution_count": 10,
     "metadata": {},
     "output_type": "execute_result"
    }
   ],
   "execution_count": 10
  },
  {
   "metadata": {
    "ExecuteTime": {
     "end_time": "2025-03-30T15:55:30.384781Z",
     "start_time": "2025-03-30T15:55:30.380202Z"
    }
   },
   "cell_type": "code",
   "source": "type(h)",
   "id": "373c48825dd6084a",
   "outputs": [
    {
     "data": {
      "text/plain": [
       "Piecewise"
      ]
     },
     "execution_count": 11,
     "metadata": {},
     "output_type": "execute_result"
    }
   ],
   "execution_count": 11
  },
  {
   "metadata": {
    "ExecuteTime": {
     "end_time": "2025-03-30T15:56:33.883224Z",
     "start_time": "2025-03-30T15:56:33.348513Z"
    }
   },
   "cell_type": "code",
   "source": "(h * f).simplify()",
   "id": "4eab3f7f2ebd157",
   "outputs": [
    {
     "data": {
      "text/plain": [
       "Piecewise((x**(y + 1)*sin(3*x)*cos(2*x)/(y + 1), (y > -1) | (y < -1)), (log(x)*sin(3*x)*cos(2*x), True))"
      ],
      "text/latex": "$\\displaystyle \\begin{cases} \\frac{x^{y + 1} \\sin{\\left(3 x \\right)} \\cos{\\left(2 x \\right)}}{y + 1} & \\text{for}\\: y > -1 \\vee y < -1 \\\\\\log{\\left(x \\right)} \\sin{\\left(3 x \\right)} \\cos{\\left(2 x \\right)} & \\text{otherwise} \\end{cases}$"
     },
     "execution_count": 13,
     "metadata": {},
     "output_type": "execute_result"
    }
   ],
   "execution_count": 13
  },
  {
   "metadata": {},
   "cell_type": "markdown",
   "source": "## Definite Integrals",
   "id": "c9da856ba68f997d"
  },
  {
   "metadata": {},
   "cell_type": "markdown",
   "source": "### Example 1",
   "id": "9c59a3d1767ea148"
  },
  {
   "metadata": {
    "ExecuteTime": {
     "end_time": "2025-03-30T15:57:00.295275Z",
     "start_time": "2025-03-30T15:57:00.289421Z"
    }
   },
   "cell_type": "code",
   "source": "f",
   "id": "a7c007b621de7567",
   "outputs": [
    {
     "data": {
      "text/plain": [
       "sin(3*x)*cos(2*x)"
      ],
      "text/latex": "$\\displaystyle \\sin{\\left(3 x \\right)} \\cos{\\left(2 x \\right)}$"
     },
     "execution_count": 14,
     "metadata": {},
     "output_type": "execute_result"
    }
   ],
   "execution_count": 14
  },
  {
   "metadata": {
    "ExecuteTime": {
     "end_time": "2025-03-30T15:57:53.113124Z",
     "start_time": "2025-03-30T15:57:53.035493Z"
    }
   },
   "cell_type": "code",
   "source": [
    "# Specifying lower and upper limits for integration\n",
    "\n",
    "sp.integrate(f, (x, 0, sp.pi))"
   ],
   "id": "1cd5b26aafcb5d2d",
   "outputs": [
    {
     "data": {
      "text/plain": [
       "6/5"
      ],
      "text/latex": "$\\displaystyle \\frac{6}{5}$"
     },
     "execution_count": 15,
     "metadata": {},
     "output_type": "execute_result"
    }
   ],
   "execution_count": 15
  },
  {
   "metadata": {},
   "cell_type": "markdown",
   "source": "### Example 2",
   "id": "80fb4bd756d55ccb"
  },
  {
   "metadata": {
    "ExecuteTime": {
     "end_time": "2025-03-30T15:58:35.594340Z",
     "start_time": "2025-03-30T15:58:35.588335Z"
    }
   },
   "cell_type": "code",
   "source": [
    "# Defining a new function\n",
    "\n",
    "u = sp.exp(-x)\n",
    "u"
   ],
   "id": "75eb1f2ac73cf6bd",
   "outputs": [
    {
     "data": {
      "text/plain": [
       "exp(-x)"
      ],
      "text/latex": "$\\displaystyle e^{- x}$"
     },
     "execution_count": 16,
     "metadata": {},
     "output_type": "execute_result"
    }
   ],
   "execution_count": 16
  },
  {
   "metadata": {
    "ExecuteTime": {
     "end_time": "2025-03-30T15:58:59.477107Z",
     "start_time": "2025-03-30T15:58:59.352144Z"
    }
   },
   "cell_type": "code",
   "source": [
    "# Integrate the function\n",
    "sp.integrate(u, (x, 0, sp.oo))"
   ],
   "id": "8e5feab18939ae56",
   "outputs": [
    {
     "data": {
      "text/plain": [
       "1"
      ],
      "text/latex": "$\\displaystyle 1$"
     },
     "execution_count": 17,
     "metadata": {},
     "output_type": "execute_result"
    }
   ],
   "execution_count": 17
  },
  {
   "metadata": {},
   "cell_type": "markdown",
   "source": "## Multivariable Integrals",
   "id": "d3949f8fe92d8e63"
  },
  {
   "metadata": {
    "ExecuteTime": {
     "end_time": "2025-03-30T15:59:56.902105Z",
     "start_time": "2025-03-30T15:59:56.896035Z"
    }
   },
   "cell_type": "code",
   "source": [
    "# Defining a function\n",
    "\n",
    "w = x * y * z **2\n",
    "w"
   ],
   "id": "f85afa481b62faee",
   "outputs": [
    {
     "data": {
      "text/plain": [
       "x*y*z**2"
      ],
      "text/latex": "$\\displaystyle x y z^{2}$"
     },
     "execution_count": 18,
     "metadata": {},
     "output_type": "execute_result"
    }
   ],
   "execution_count": 18
  },
  {
   "metadata": {
    "ExecuteTime": {
     "end_time": "2025-03-30T16:00:44.107564Z",
     "start_time": "2025-03-30T16:00:44.096759Z"
    }
   },
   "cell_type": "code",
   "source": [
    "# Indefinite integral\n",
    "sp.integrate(w, x, y)"
   ],
   "id": "9f2bcbae4a481dbf",
   "outputs": [
    {
     "data": {
      "text/plain": [
       "x**2*y**2*z**2/4"
      ],
      "text/latex": "$\\displaystyle \\frac{x^{2} y^{2} z^{2}}{4}$"
     },
     "execution_count": 21,
     "metadata": {},
     "output_type": "execute_result"
    }
   ],
   "execution_count": 21
  },
  {
   "metadata": {
    "ExecuteTime": {
     "end_time": "2025-03-30T16:01:36.738760Z",
     "start_time": "2025-03-30T16:01:36.716534Z"
    }
   },
   "cell_type": "code",
   "source": [
    "# Definite Integrals\n",
    "sp.integrate(w, (x, 0, 1), (y, 1, 5), (z, 0, 3))"
   ],
   "id": "7911db29262f539b",
   "outputs": [
    {
     "data": {
      "text/plain": [
       "54"
      ],
      "text/latex": "$\\displaystyle 54$"
     },
     "execution_count": 22,
     "metadata": {},
     "output_type": "execute_result"
    }
   ],
   "execution_count": 22
  }
 ],
 "metadata": {
  "kernelspec": {
   "display_name": "Python 3",
   "language": "python",
   "name": "python3"
  },
  "language_info": {
   "codemirror_mode": {
    "name": "ipython",
    "version": 2
   },
   "file_extension": ".py",
   "mimetype": "text/x-python",
   "name": "python",
   "nbconvert_exporter": "python",
   "pygments_lexer": "ipython2",
   "version": "2.7.6"
  }
 },
 "nbformat": 4,
 "nbformat_minor": 5
}
