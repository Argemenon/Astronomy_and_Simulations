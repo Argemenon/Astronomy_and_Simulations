{
 "cells": [
  {
   "metadata": {},
   "cell_type": "markdown",
   "source": "# Ordinary Differential Equation",
   "id": "d8d39a6e123e555d"
  },
  {
   "cell_type": "code",
   "id": "initial_id",
   "metadata": {
    "collapsed": true,
    "ExecuteTime": {
     "end_time": "2025-03-30T16:44:11.969018Z",
     "start_time": "2025-03-30T16:44:11.234656Z"
    }
   },
   "source": [
    "import sympy as sp\n",
    "\n",
    "x = sp.Symbol('x')"
   ],
   "outputs": [],
   "execution_count": 1
  },
  {
   "metadata": {
    "ExecuteTime": {
     "end_time": "2025-03-30T16:44:54.286523Z",
     "start_time": "2025-03-30T16:44:54.278740Z"
    }
   },
   "cell_type": "code",
   "source": [
    "# Creating a function object\n",
    "\n",
    "f = sp.Function('f')(x)\n",
    "f"
   ],
   "id": "a296a4b3a3fc2144",
   "outputs": [
    {
     "data": {
      "text/plain": [
       "f(x)"
      ],
      "text/latex": "$\\displaystyle f{\\left(x \\right)}$"
     },
     "execution_count": 2,
     "metadata": {},
     "output_type": "execute_result"
    }
   ],
   "execution_count": 2
  },
  {
   "metadata": {
    "ExecuteTime": {
     "end_time": "2025-03-30T16:45:19.913510Z",
     "start_time": "2025-03-30T16:45:19.903522Z"
    }
   },
   "cell_type": "code",
   "source": "f.diff()",
   "id": "56ecaffd14aaf1d8",
   "outputs": [
    {
     "data": {
      "text/plain": [
       "Derivative(f(x), x)"
      ],
      "text/latex": "$\\displaystyle \\frac{d}{d x} f{\\left(x \\right)}$"
     },
     "execution_count": 3,
     "metadata": {},
     "output_type": "execute_result"
    }
   ],
   "execution_count": 3
  },
  {
   "metadata": {
    "ExecuteTime": {
     "end_time": "2025-03-30T16:47:16.194004Z",
     "start_time": "2025-03-30T16:47:16.186155Z"
    }
   },
   "cell_type": "code",
   "source": [
    "# Creating a Differential Equation\n",
    "\n",
    "diff_eq = sp.Eq(x * f.diff(x, x) + f.diff(x), x ** 3)\n",
    "diff_eq"
   ],
   "id": "38345453f3c1c603",
   "outputs": [
    {
     "data": {
      "text/plain": [
       "Eq(x*Derivative(f(x), (x, 2)) + Derivative(f(x), x), x**3)"
      ],
      "text/latex": "$\\displaystyle x \\frac{d^{2}}{d x^{2}} f{\\left(x \\right)} + \\frac{d}{d x} f{\\left(x \\right)} = x^{3}$"
     },
     "execution_count": 6,
     "metadata": {},
     "output_type": "execute_result"
    }
   ],
   "execution_count": 6
  },
  {
   "metadata": {
    "ExecuteTime": {
     "end_time": "2025-03-30T16:47:28.596434Z",
     "start_time": "2025-03-30T16:47:28.591030Z"
    }
   },
   "cell_type": "code",
   "source": "diff_eq.rhs",
   "id": "6f3c6d1013578a3a",
   "outputs": [
    {
     "data": {
      "text/plain": [
       "x**3"
      ],
      "text/latex": "$\\displaystyle x^{3}$"
     },
     "execution_count": 7,
     "metadata": {},
     "output_type": "execute_result"
    }
   ],
   "execution_count": 7
  },
  {
   "metadata": {
    "ExecuteTime": {
     "end_time": "2025-03-30T16:47:38.250933Z",
     "start_time": "2025-03-30T16:47:38.244493Z"
    }
   },
   "cell_type": "code",
   "source": "diff_eq.lhs",
   "id": "5bc8850056f48d0c",
   "outputs": [
    {
     "data": {
      "text/plain": [
       "x*Derivative(f(x), (x, 2)) + Derivative(f(x), x)"
      ],
      "text/latex": "$\\displaystyle x \\frac{d^{2}}{d x^{2}} f{\\left(x \\right)} + \\frac{d}{d x} f{\\left(x \\right)}$"
     },
     "execution_count": 8,
     "metadata": {},
     "output_type": "execute_result"
    }
   ],
   "execution_count": 8
  },
  {
   "metadata": {
    "ExecuteTime": {
     "end_time": "2025-03-30T16:48:01.892575Z",
     "start_time": "2025-03-30T16:48:01.583921Z"
    }
   },
   "cell_type": "code",
   "source": [
    "sol = sp.dsolve(diff_eq, f)\n",
    "sol"
   ],
   "id": "fd5b19b74a7a3d68",
   "outputs": [
    {
     "data": {
      "text/plain": [
       "Eq(f(x), C1 + C2*log(x) + x**4/16)"
      ],
      "text/latex": "$\\displaystyle f{\\left(x \\right)} = C_{1} + C_{2} \\log{\\left(x \\right)} + \\frac{x^{4}}{16}$"
     },
     "execution_count": 9,
     "metadata": {},
     "output_type": "execute_result"
    }
   ],
   "execution_count": 9
  },
  {
   "metadata": {
    "ExecuteTime": {
     "end_time": "2025-03-30T16:48:37.616985Z",
     "start_time": "2025-03-30T16:48:37.611875Z"
    }
   },
   "cell_type": "code",
   "source": [
    "exp = sol.rhs\n",
    "exp"
   ],
   "id": "fb3062ab563aa504",
   "outputs": [
    {
     "data": {
      "text/plain": [
       "C1 + C2*log(x) + x**4/16"
      ],
      "text/latex": "$\\displaystyle C_{1} + C_{2} \\log{\\left(x \\right)} + \\frac{x^{4}}{16}$"
     },
     "execution_count": 10,
     "metadata": {},
     "output_type": "execute_result"
    }
   ],
   "execution_count": 10
  },
  {
   "metadata": {
    "ExecuteTime": {
     "end_time": "2025-03-30T16:51:25.262872Z",
     "start_time": "2025-03-30T16:51:25.258788Z"
    }
   },
   "cell_type": "code",
   "source": [
    "# Naming the Constants\n",
    "\n",
    "C1, _, C2 = tuple(exp.free_symbols)"
   ],
   "id": "57e276896f76992d",
   "outputs": [],
   "execution_count": 18
  },
  {
   "metadata": {
    "ExecuteTime": {
     "end_time": "2025-03-30T16:51:50.253450Z",
     "start_time": "2025-03-30T16:51:50.242496Z"
    }
   },
   "cell_type": "code",
   "source": "exp.subs(C1, 0).subs(C2, 1)",
   "id": "cdceb7801ade98e8",
   "outputs": [
    {
     "data": {
      "text/plain": [
       "x**4/16 + log(x)"
      ],
      "text/latex": "$\\displaystyle \\frac{x^{4}}{16} + \\log{\\left(x \\right)}$"
     },
     "execution_count": 19,
     "metadata": {},
     "output_type": "execute_result"
    }
   ],
   "execution_count": 19
  },
  {
   "metadata": {
    "ExecuteTime": {
     "end_time": "2025-03-30T16:52:51.641493Z",
     "start_time": "2025-03-30T16:52:51.633147Z"
    }
   },
   "cell_type": "code",
   "source": "exp.subs({C1: 0, C2: 1})",
   "id": "403ec8e393c7a3a9",
   "outputs": [
    {
     "data": {
      "text/plain": [
       "x**4/16 + log(x)"
      ],
      "text/latex": "$\\displaystyle \\frac{x^{4}}{16} + \\log{\\left(x \\right)}$"
     },
     "execution_count": 21,
     "metadata": {},
     "output_type": "execute_result"
    }
   ],
   "execution_count": 21
  },
  {
   "metadata": {},
   "cell_type": "markdown",
   "source": [
    "## Giving Initial Conditions\n",
    "\n",
    "$$\n",
    "f(1) = 0 ~~~ ; ~~~ f'(2) = 1\n",
    "$$"
   ],
   "id": "b27165dae3a04b53"
  },
  {
   "metadata": {
    "ExecuteTime": {
     "end_time": "2025-03-30T16:54:14.096853Z",
     "start_time": "2025-03-30T16:54:14.090976Z"
    }
   },
   "cell_type": "code",
   "source": [
    "ics = {f.subs(x, 1): 0, f.diff().subs(x, 2): 1}\n",
    "ics"
   ],
   "id": "7e0dca1cef7bcbab",
   "outputs": [
    {
     "data": {
      "text/plain": [
       "{f(1): 0, Subs(Derivative(f(x), x), x, 2): 1}"
      ]
     },
     "execution_count": 22,
     "metadata": {},
     "output_type": "execute_result"
    }
   ],
   "execution_count": 22
  },
  {
   "metadata": {
    "ExecuteTime": {
     "end_time": "2025-03-30T16:55:12.600561Z",
     "start_time": "2025-03-30T16:55:12.467743Z"
    }
   },
   "cell_type": "code",
   "source": [
    "# Solving the IVP\n",
    "\n",
    "ivp = sp.dsolve(diff_eq, ics = ics).rhs\n",
    "ivp"
   ],
   "id": "49c591e5c97aa67",
   "outputs": [
    {
     "data": {
      "text/plain": [
       "x**4/16 - 2*log(x) - 1/16"
      ],
      "text/latex": "$\\displaystyle \\frac{x^{4}}{16} - 2 \\log{\\left(x \\right)} - \\frac{1}{16}$"
     },
     "execution_count": 24,
     "metadata": {},
     "output_type": "execute_result"
    }
   ],
   "execution_count": 24
  },
  {
   "metadata": {
    "ExecuteTime": {
     "end_time": "2025-03-30T16:55:30.606757Z",
     "start_time": "2025-03-30T16:55:30.600634Z"
    }
   },
   "cell_type": "code",
   "source": "ivp.subs(x, 1)",
   "id": "f9bb85d55b2b515",
   "outputs": [
    {
     "data": {
      "text/plain": [
       "0"
      ],
      "text/latex": "$\\displaystyle 0$"
     },
     "execution_count": 25,
     "metadata": {},
     "output_type": "execute_result"
    }
   ],
   "execution_count": 25
  },
  {
   "metadata": {
    "ExecuteTime": {
     "end_time": "2025-03-30T16:55:45.866466Z",
     "start_time": "2025-03-30T16:55:45.856545Z"
    }
   },
   "cell_type": "code",
   "source": "ivp.diff().subs(x, 2)",
   "id": "ea7cd7793fda56d4",
   "outputs": [
    {
     "data": {
      "text/plain": [
       "1"
      ],
      "text/latex": "$\\displaystyle 1$"
     },
     "execution_count": 26,
     "metadata": {},
     "output_type": "execute_result"
    }
   ],
   "execution_count": 26
  },
  {
   "metadata": {
    "ExecuteTime": {
     "end_time": "2025-03-30T16:58:22.561810Z",
     "start_time": "2025-03-30T16:58:22.546873Z"
    }
   },
   "cell_type": "code",
   "source": [
    "# Checking if it satisfies the ODE\n",
    "\n",
    "(x * ivp.diff(x,x) + ivp.diff()).simplify()"
   ],
   "id": "d45615897e30bcac",
   "outputs": [
    {
     "data": {
      "text/plain": [
       "x**3"
      ],
      "text/latex": "$\\displaystyle x^{3}$"
     },
     "execution_count": 30,
     "metadata": {},
     "output_type": "execute_result"
    }
   ],
   "execution_count": 30
  }
 ],
 "metadata": {
  "kernelspec": {
   "display_name": "Python 3",
   "language": "python",
   "name": "python3"
  },
  "language_info": {
   "codemirror_mode": {
    "name": "ipython",
    "version": 2
   },
   "file_extension": ".py",
   "mimetype": "text/x-python",
   "name": "python",
   "nbconvert_exporter": "python",
   "pygments_lexer": "ipython2",
   "version": "2.7.6"
  }
 },
 "nbformat": 4,
 "nbformat_minor": 5
}
