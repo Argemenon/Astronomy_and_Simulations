{
 "cells": [
  {
   "metadata": {},
   "cell_type": "markdown",
   "source": "# Defining Symbols",
   "id": "761486298492c43"
  },
  {
   "metadata": {
    "ExecuteTime": {
     "end_time": "2025-03-30T10:08:45.064256Z",
     "start_time": "2025-03-30T10:08:44.313861Z"
    }
   },
   "cell_type": "code",
   "source": "import sympy as sp",
   "id": "b96e03f6def00cdf",
   "outputs": [],
   "execution_count": 1
  },
  {
   "metadata": {
    "ExecuteTime": {
     "end_time": "2025-03-30T10:09:16.953365Z",
     "start_time": "2025-03-30T10:09:16.947769Z"
    }
   },
   "cell_type": "code",
   "source": [
    "# Making a symbol\n",
    "x = sp.Symbol('x')\n",
    "x"
   ],
   "id": "59f1ab43e151ddd0",
   "outputs": [
    {
     "data": {
      "text/plain": [
       "x"
      ],
      "text/latex": "$\\displaystyle x$"
     },
     "execution_count": 4,
     "metadata": {},
     "output_type": "execute_result"
    }
   ],
   "execution_count": 4
  },
  {
   "metadata": {
    "ExecuteTime": {
     "end_time": "2025-03-30T10:09:45.679035Z",
     "start_time": "2025-03-30T10:09:45.625072Z"
    }
   },
   "cell_type": "code",
   "source": [
    "# A simple expression\n",
    "2*x + 5"
   ],
   "id": "716c26e1cdcb67",
   "outputs": [
    {
     "data": {
      "text/plain": [
       "2*x + 5"
      ],
      "text/latex": "$\\displaystyle 2 x + 5$"
     },
     "execution_count": 5,
     "metadata": {},
     "output_type": "execute_result"
    }
   ],
   "execution_count": 5
  },
  {
   "metadata": {
    "ExecuteTime": {
     "end_time": "2025-03-30T10:10:23.279959Z",
     "start_time": "2025-03-30T10:10:23.274087Z"
    }
   },
   "cell_type": "code",
   "source": [
    "# The variable name and symbol need not need to coincide\n",
    "y = sp.Symbol('z')\n",
    "y"
   ],
   "id": "719e13889450fae",
   "outputs": [
    {
     "data": {
      "text/plain": [
       "z"
      ],
      "text/latex": "$\\displaystyle z$"
     },
     "execution_count": 6,
     "metadata": {},
     "output_type": "execute_result"
    }
   ],
   "execution_count": 6
  },
  {
   "metadata": {},
   "cell_type": "markdown",
   "source": "## Simplification",
   "id": "96e5f21b1c10e631"
  },
  {
   "metadata": {
    "ExecuteTime": {
     "end_time": "2025-03-30T10:11:25.229478Z",
     "start_time": "2025-03-30T10:11:25.219090Z"
    }
   },
   "cell_type": "code",
   "source": [
    "# Sometimes SciPy expressions are automatically simplified\n",
    "2*x + x -5"
   ],
   "id": "a987b932f78a7248",
   "outputs": [
    {
     "data": {
      "text/plain": [
       "3*x - 5"
      ],
      "text/latex": "$\\displaystyle 3 x - 5$"
     },
     "execution_count": 7,
     "metadata": {},
     "output_type": "execute_result"
    }
   ],
   "execution_count": 7
  },
  {
   "metadata": {
    "ExecuteTime": {
     "end_time": "2025-03-30T10:11:54.676365Z",
     "start_time": "2025-03-30T10:11:54.667982Z"
    }
   },
   "cell_type": "code",
   "source": [
    "# sine and cosine\n",
    "sp.sin(x)**2 + sp.cos(x)**2"
   ],
   "id": "7d52eaca0b8de163",
   "outputs": [
    {
     "data": {
      "text/plain": [
       "sin(x)**2 + cos(x)**2"
      ],
      "text/latex": "$\\displaystyle \\sin^{2}{\\left(x \\right)} + \\cos^{2}{\\left(x \\right)}$"
     },
     "execution_count": 8,
     "metadata": {},
     "output_type": "execute_result"
    }
   ],
   "execution_count": 8
  },
  {
   "metadata": {
    "ExecuteTime": {
     "end_time": "2025-03-30T10:12:12.550810Z",
     "start_time": "2025-03-30T10:12:12.545225Z"
    }
   },
   "cell_type": "code",
   "source": [
    "# Division\n",
    "2*x / 6"
   ],
   "id": "c20ab59d07bcdb7c",
   "outputs": [
    {
     "data": {
      "text/plain": [
       "x/3"
      ],
      "text/latex": "$\\displaystyle \\frac{x}{3}$"
     },
     "execution_count": 9,
     "metadata": {},
     "output_type": "execute_result"
    }
   ],
   "execution_count": 9
  },
  {
   "metadata": {
    "ExecuteTime": {
     "end_time": "2025-03-30T10:12:29.763261Z",
     "start_time": "2025-03-30T10:12:29.758257Z"
    }
   },
   "cell_type": "code",
   "source": [
    "# cancellation in division\n",
    "x/x"
   ],
   "id": "8fb71b6263a6d2b7",
   "outputs": [
    {
     "data": {
      "text/plain": [
       "1"
      ],
      "text/latex": "$\\displaystyle 1$"
     },
     "execution_count": 10,
     "metadata": {},
     "output_type": "execute_result"
    }
   ],
   "execution_count": 10
  },
  {
   "metadata": {
    "ExecuteTime": {
     "end_time": "2025-03-30T10:13:39.844069Z",
     "start_time": "2025-03-30T10:13:39.838508Z"
    }
   },
   "cell_type": "code",
   "source": [
    "# when is the multiplication not carried out\n",
    "expr = x*(x+2)\n",
    "expr"
   ],
   "id": "7216c3f37f454a06",
   "outputs": [
    {
     "data": {
      "text/plain": [
       "x*(x + 2)"
      ],
      "text/latex": "$\\displaystyle x \\left(x + 2\\right)$"
     },
     "execution_count": 12,
     "metadata": {},
     "output_type": "execute_result"
    }
   ],
   "execution_count": 12
  },
  {
   "metadata": {},
   "cell_type": "markdown",
   "source": "## Expand Expression",
   "id": "313047936fed905e"
  },
  {
   "metadata": {
    "ExecuteTime": {
     "end_time": "2025-03-30T10:13:52.589343Z",
     "start_time": "2025-03-30T10:13:52.582938Z"
    }
   },
   "cell_type": "code",
   "source": "expr.expand()",
   "id": "e27d854967e97217",
   "outputs": [
    {
     "data": {
      "text/plain": [
       "x**2 + 2*x"
      ],
      "text/latex": "$\\displaystyle x^{2} + 2 x$"
     },
     "execution_count": 13,
     "metadata": {},
     "output_type": "execute_result"
    }
   ],
   "execution_count": 13
  },
  {
   "metadata": {
    "ExecuteTime": {
     "end_time": "2025-03-30T10:13:56.124555Z",
     "start_time": "2025-03-30T10:13:56.118551Z"
    }
   },
   "cell_type": "code",
   "source": "expr",
   "id": "2a1d6026ca8ead18",
   "outputs": [
    {
     "data": {
      "text/plain": [
       "x*(x + 2)"
      ],
      "text/latex": "$\\displaystyle x \\left(x + 2\\right)$"
     },
     "execution_count": 14,
     "metadata": {},
     "output_type": "execute_result"
    }
   ],
   "execution_count": 14
  },
  {
   "metadata": {
    "ExecuteTime": {
     "end_time": "2025-03-30T10:14:11.703875Z",
     "start_time": "2025-03-30T10:14:11.698150Z"
    }
   },
   "cell_type": "code",
   "source": "sp.expand(expr)",
   "id": "b0ecd4446f6e2383",
   "outputs": [
    {
     "data": {
      "text/plain": [
       "x**2 + 2*x"
      ],
      "text/latex": "$\\displaystyle x^{2} + 2 x$"
     },
     "execution_count": 15,
     "metadata": {},
     "output_type": "execute_result"
    }
   ],
   "execution_count": 15
  },
  {
   "metadata": {},
   "cell_type": "markdown",
   "source": "## Example 2",
   "id": "5ba3ac2c2143dc53"
  },
  {
   "metadata": {
    "ExecuteTime": {
     "end_time": "2025-03-30T10:15:04.036045Z",
     "start_time": "2025-03-30T10:15:04.030676Z"
    }
   },
   "cell_type": "code",
   "source": [
    "# Can define multiple symbols at once\n",
    "sp.symbols('s t')"
   ],
   "id": "c1c068f9bfafcc65",
   "outputs": [
    {
     "data": {
      "text/plain": [
       "(s, t)"
      ]
     },
     "execution_count": 16,
     "metadata": {},
     "output_type": "execute_result"
    }
   ],
   "execution_count": 16
  },
  {
   "metadata": {
    "ExecuteTime": {
     "end_time": "2025-03-30T10:15:11.022279Z",
     "start_time": "2025-03-30T10:15:11.017004Z"
    }
   },
   "cell_type": "code",
   "source": "type(sp.symbols('s t'))",
   "id": "572ddd20d97b977c",
   "outputs": [
    {
     "data": {
      "text/plain": [
       "tuple"
      ]
     },
     "execution_count": 17,
     "metadata": {},
     "output_type": "execute_result"
    }
   ],
   "execution_count": 17
  },
  {
   "metadata": {
    "ExecuteTime": {
     "end_time": "2025-03-30T10:15:38.141675Z",
     "start_time": "2025-03-30T10:15:38.137253Z"
    }
   },
   "cell_type": "code",
   "source": [
    "# can use tuple unpacking to collect the symbols\n",
    "s, t = sp.symbols('s t')"
   ],
   "id": "807ce2308ed67289",
   "outputs": [],
   "execution_count": 18
  },
  {
   "metadata": {
    "ExecuteTime": {
     "end_time": "2025-03-30T10:16:07.029651Z",
     "start_time": "2025-03-30T10:16:07.024264Z"
    }
   },
   "cell_type": "code",
   "source": [
    "poly = t*(s+2)*(t-3)\n",
    "poly"
   ],
   "id": "c2fcb36b25512079",
   "outputs": [
    {
     "data": {
      "text/plain": [
       "t*(s + 2)*(t - 3)"
      ],
      "text/latex": "$\\displaystyle t \\left(s + 2\\right) \\left(t - 3\\right)$"
     },
     "execution_count": 20,
     "metadata": {},
     "output_type": "execute_result"
    }
   ],
   "execution_count": 20
  },
  {
   "metadata": {
    "ExecuteTime": {
     "end_time": "2025-03-30T10:16:12.793223Z",
     "start_time": "2025-03-30T10:16:12.785978Z"
    }
   },
   "cell_type": "code",
   "source": "poly.expand()",
   "id": "be3fccf9a801f178",
   "outputs": [
    {
     "data": {
      "text/plain": [
       "s*t**2 - 3*s*t + 2*t**2 - 6*t"
      ],
      "text/latex": "$\\displaystyle s t^{2} - 3 s t + 2 t^{2} - 6 t$"
     },
     "execution_count": 21,
     "metadata": {},
     "output_type": "execute_result"
    }
   ],
   "execution_count": 21
  },
  {
   "metadata": {},
   "cell_type": "markdown",
   "source": "## Factor Expressions",
   "id": "370dc55bfffb64bb"
  },
  {
   "metadata": {},
   "cell_type": "markdown",
   "source": "### Example 1",
   "id": "c96f8f0f48592991"
  },
  {
   "metadata": {
    "ExecuteTime": {
     "end_time": "2025-03-30T10:17:22.561759Z",
     "start_time": "2025-03-30T10:17:22.555969Z"
    }
   },
   "cell_type": "code",
   "source": [
    "expr = x**2 + 2*x -15\n",
    "expr"
   ],
   "id": "3bd3da86ea56705f",
   "outputs": [
    {
     "data": {
      "text/plain": [
       "x**2 + 2*x - 15"
      ],
      "text/latex": "$\\displaystyle x^{2} + 2 x - 15$"
     },
     "execution_count": 22,
     "metadata": {},
     "output_type": "execute_result"
    }
   ],
   "execution_count": 22
  },
  {
   "metadata": {
    "ExecuteTime": {
     "end_time": "2025-03-30T10:17:42.386259Z",
     "start_time": "2025-03-30T10:17:42.377134Z"
    }
   },
   "cell_type": "code",
   "source": [
    "# Factoring the polynomial\n",
    "expr.factor()"
   ],
   "id": "a09412de6ecef9c6",
   "outputs": [
    {
     "data": {
      "text/plain": [
       "(x - 3)*(x + 5)"
      ],
      "text/latex": "$\\displaystyle \\left(x - 3\\right) \\left(x + 5\\right)$"
     },
     "execution_count": 23,
     "metadata": {},
     "output_type": "execute_result"
    }
   ],
   "execution_count": 23
  },
  {
   "metadata": {},
   "cell_type": "markdown",
   "source": "### Example 2",
   "id": "833f0f36ea520959"
  },
  {
   "metadata": {
    "ExecuteTime": {
     "end_time": "2025-03-30T10:19:43.209446Z",
     "start_time": "2025-03-30T10:19:43.206262Z"
    }
   },
   "cell_type": "code",
   "source": [
    "# can make many symbols as follows\n",
    "x_v = sp.symbols('x0:3')"
   ],
   "id": "b6e05d1c92e45c0f",
   "outputs": [],
   "execution_count": 28
  },
  {
   "metadata": {
    "ExecuteTime": {
     "end_time": "2025-03-30T10:19:43.618073Z",
     "start_time": "2025-03-30T10:19:43.613569Z"
    }
   },
   "cell_type": "code",
   "source": "x_v",
   "id": "a868292d4eecf38c",
   "outputs": [
    {
     "data": {
      "text/plain": [
       "(x0, x1, x2)"
      ]
     },
     "execution_count": 29,
     "metadata": {},
     "output_type": "execute_result"
    }
   ],
   "execution_count": 29
  },
  {
   "metadata": {
    "ExecuteTime": {
     "end_time": "2025-03-30T10:21:17.697335Z",
     "start_time": "2025-03-30T10:21:17.691034Z"
    }
   },
   "cell_type": "code",
   "source": [
    "ex = x_v[0]**2 * x_v[1] * x_v[2] + x_v[0] * x_v[1] * x_v[2]\n",
    "ex"
   ],
   "id": "71c503c17b3ae198",
   "outputs": [
    {
     "data": {
      "text/plain": [
       "x0**2*x1*x2 + x0*x1*x2"
      ],
      "text/latex": "$\\displaystyle x_{0}^{2} x_{1} x_{2} + x_{0} x_{1} x_{2}$"
     },
     "execution_count": 30,
     "metadata": {},
     "output_type": "execute_result"
    }
   ],
   "execution_count": 30
  },
  {
   "metadata": {
    "ExecuteTime": {
     "end_time": "2025-03-30T10:21:38.855971Z",
     "start_time": "2025-03-30T10:21:38.847733Z"
    }
   },
   "cell_type": "code",
   "source": "sp.factor(ex)",
   "id": "390e5ceb21576d07",
   "outputs": [
    {
     "data": {
      "text/plain": [
       "x0*x1*x2*(x0 + 1)"
      ],
      "text/latex": "$\\displaystyle x_{0} x_{1} x_{2} \\left(x_{0} + 1\\right)$"
     },
     "execution_count": 32,
     "metadata": {},
     "output_type": "execute_result"
    }
   ],
   "execution_count": 32
  }
 ],
 "metadata": {
  "kernelspec": {
   "display_name": "Python 3",
   "language": "python",
   "name": "python3"
  },
  "language_info": {
   "codemirror_mode": {
    "name": "ipython",
    "version": 2
   },
   "file_extension": ".py",
   "mimetype": "text/x-python",
   "name": "python",
   "nbconvert_exporter": "python",
   "pygments_lexer": "ipython2",
   "version": "2.7.6"
  }
 },
 "nbformat": 4,
 "nbformat_minor": 5
}
