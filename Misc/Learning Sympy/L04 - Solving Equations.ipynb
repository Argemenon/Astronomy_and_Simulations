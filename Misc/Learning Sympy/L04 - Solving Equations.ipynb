{
 "cells": [
  {
   "metadata": {},
   "cell_type": "markdown",
   "source": "# Solving Equations",
   "id": "164cdf442d9b28b8"
  },
  {
   "metadata": {
    "ExecuteTime": {
     "end_time": "2025-03-30T10:41:57.009279Z",
     "start_time": "2025-03-30T10:41:56.379955Z"
    }
   },
   "cell_type": "code",
   "source": "import sympy as sp",
   "id": "d3943c06926e415a",
   "outputs": [],
   "execution_count": 1
  },
  {
   "metadata": {
    "ExecuteTime": {
     "end_time": "2025-03-30T10:42:04.709701Z",
     "start_time": "2025-03-30T10:42:04.705661Z"
    }
   },
   "cell_type": "code",
   "source": "x, y, z = sp.symbols('x y z')",
   "id": "5bc288d40006cb12",
   "outputs": [],
   "execution_count": 2
  },
  {
   "metadata": {},
   "cell_type": "markdown",
   "source": "## Defining Equations",
   "id": "78f04d7039e155ff"
  },
  {
   "metadata": {
    "ExecuteTime": {
     "end_time": "2025-03-30T10:44:45.857553Z",
     "start_time": "2025-03-30T10:44:45.850678Z"
    }
   },
   "cell_type": "code",
   "source": [
    "# Defines an equation\n",
    "eq = sp.Eq(x**2, 5)\n",
    "eq"
   ],
   "id": "31c5183a28c33009",
   "outputs": [
    {
     "data": {
      "text/plain": [
       "Eq(x**2, 5)"
      ],
      "text/latex": "$\\displaystyle x^{2} = 5$"
     },
     "execution_count": 12,
     "metadata": {},
     "output_type": "execute_result"
    }
   ],
   "execution_count": 12
  },
  {
   "metadata": {
    "ExecuteTime": {
     "end_time": "2025-03-30T10:44:46.148900Z",
     "start_time": "2025-03-30T10:44:46.144886Z"
    }
   },
   "cell_type": "code",
   "source": "type(eq)",
   "id": "1a95f9baf4b35556",
   "outputs": [
    {
     "data": {
      "text/plain": [
       "sympy.core.relational.Equality"
      ]
     },
     "execution_count": 13,
     "metadata": {},
     "output_type": "execute_result"
    }
   ],
   "execution_count": 13
  },
  {
   "metadata": {},
   "cell_type": "markdown",
   "source": "## Solving Equations",
   "id": "2ec3265033addef8"
  },
  {
   "metadata": {
    "ExecuteTime": {
     "end_time": "2025-03-30T10:45:10.612038Z",
     "start_time": "2025-03-30T10:45:10.592280Z"
    }
   },
   "cell_type": "code",
   "source": "sp.solveset(eq, x)",
   "id": "4d3d3f645d349c84",
   "outputs": [
    {
     "data": {
      "text/plain": [
       "{-sqrt(5), sqrt(5)}"
      ],
      "text/latex": "$\\displaystyle \\left\\{- \\sqrt{5}, \\sqrt{5}\\right\\}$"
     },
     "execution_count": 16,
     "metadata": {},
     "output_type": "execute_result"
    }
   ],
   "execution_count": 16
  },
  {
   "metadata": {
    "ExecuteTime": {
     "end_time": "2025-03-30T10:48:03.697697Z",
     "start_time": "2025-03-30T10:48:03.686433Z"
    }
   },
   "cell_type": "code",
   "source": "type(sp.solveset(eq))",
   "id": "4eb0b2a932f65583",
   "outputs": [
    {
     "data": {
      "text/plain": [
       "sympy.sets.sets.FiniteSet"
      ]
     },
     "execution_count": 19,
     "metadata": {},
     "output_type": "execute_result"
    }
   ],
   "execution_count": 19
  },
  {
   "metadata": {
    "ExecuteTime": {
     "end_time": "2025-03-30T10:49:05.998046Z",
     "start_time": "2025-03-30T10:49:05.985376Z"
    }
   },
   "cell_type": "code",
   "source": [
    "# Extracting the first solution\n",
    "list(sp.solveset(eq, x))[0]"
   ],
   "id": "ad549cd7f434bf14",
   "outputs": [
    {
     "data": {
      "text/plain": [
       "sqrt(5)"
      ],
      "text/latex": "$\\displaystyle \\sqrt{5}$"
     },
     "execution_count": 22,
     "metadata": {},
     "output_type": "execute_result"
    }
   ],
   "execution_count": 22
  },
  {
   "metadata": {},
   "cell_type": "markdown",
   "source": "### Example 2",
   "id": "28ceab37732ff216"
  },
  {
   "metadata": {
    "ExecuteTime": {
     "end_time": "2025-03-30T10:52:06.016094Z",
     "start_time": "2025-03-30T10:52:06.007080Z"
    }
   },
   "cell_type": "code",
   "source": [
    "# Defining the equation\n",
    "eq2 = sp.Eq(sp.cos(x) - sp.sin(x), 0)\n",
    "eq2"
   ],
   "id": "437bb234c2c53fd1",
   "outputs": [
    {
     "data": {
      "text/plain": [
       "Eq(-sin(x) + cos(x), 0)"
      ],
      "text/latex": "$\\displaystyle - \\sin{\\left(x \\right)} + \\cos{\\left(x \\right)} = 0$"
     },
     "execution_count": 23,
     "metadata": {},
     "output_type": "execute_result"
    }
   ],
   "execution_count": 23
  },
  {
   "metadata": {
    "ExecuteTime": {
     "end_time": "2025-03-30T10:52:13.460078Z",
     "start_time": "2025-03-30T10:52:13.364229Z"
    }
   },
   "cell_type": "code",
   "source": "sp.solveset(eq2, x)",
   "id": "a0a63760177a60f0",
   "outputs": [
    {
     "data": {
      "text/plain": [
       "Union(ImageSet(Lambda(_n, 2*_n*pi + 5*pi/4), Integers), ImageSet(Lambda(_n, 2*_n*pi + pi/4), Integers))"
      ],
      "text/latex": "$\\displaystyle \\left\\{2 n \\pi + \\frac{5 \\pi}{4}\\; \\middle|\\; n \\in \\mathbb{Z}\\right\\} \\cup \\left\\{2 n \\pi + \\frac{\\pi}{4}\\; \\middle|\\; n \\in \\mathbb{Z}\\right\\}$"
     },
     "execution_count": 24,
     "metadata": {},
     "output_type": "execute_result"
    }
   ],
   "execution_count": 24
  },
  {
   "metadata": {
    "ExecuteTime": {
     "end_time": "2025-03-30T10:52:34.308708Z",
     "start_time": "2025-03-30T10:52:34.236260Z"
    }
   },
   "cell_type": "code",
   "source": "type(sp.solveset(eq2, x))",
   "id": "520f92205c44c7f",
   "outputs": [
    {
     "data": {
      "text/plain": [
       "sympy.sets.sets.Union"
      ]
     },
     "execution_count": 25,
     "metadata": {},
     "output_type": "execute_result"
    }
   ],
   "execution_count": 25
  },
  {
   "metadata": {},
   "cell_type": "markdown",
   "source": "### Example 3",
   "id": "eb4925f17ae233"
  },
  {
   "metadata": {
    "ExecuteTime": {
     "end_time": "2025-03-30T10:53:43.739418Z",
     "start_time": "2025-03-30T10:53:43.732690Z"
    }
   },
   "cell_type": "code",
   "source": [
    "eq3 = sp.Eq(sp.cos(x), x)\n",
    "eq3"
   ],
   "id": "89920a1bf2886bdb",
   "outputs": [
    {
     "data": {
      "text/plain": [
       "Eq(cos(x), x)"
      ],
      "text/latex": "$\\displaystyle \\cos{\\left(x \\right)} = x$"
     },
     "execution_count": 27,
     "metadata": {},
     "output_type": "execute_result"
    }
   ],
   "execution_count": 27
  },
  {
   "metadata": {
    "ExecuteTime": {
     "end_time": "2025-03-30T10:54:01.221246Z",
     "start_time": "2025-03-30T10:54:01.191096Z"
    }
   },
   "cell_type": "code",
   "source": "sp.solveset(eq3, x)",
   "id": "f264b61a31b3466a",
   "outputs": [
    {
     "data": {
      "text/plain": [
       "ConditionSet(x, Eq(-x + cos(x), 0), Complexes)"
      ],
      "text/latex": "$\\displaystyle \\left\\{x\\; \\middle|\\; x \\in \\mathbb{C} \\wedge - x + \\cos{\\left(x \\right)} = 0 \\right\\}$"
     },
     "execution_count": 28,
     "metadata": {},
     "output_type": "execute_result"
    }
   ],
   "execution_count": 28
  },
  {
   "metadata": {
    "ExecuteTime": {
     "end_time": "2025-03-30T10:54:35.639650Z",
     "start_time": "2025-03-30T10:54:35.622813Z"
    }
   },
   "cell_type": "code",
   "source": "type(sp.solveset(eq3, x))",
   "id": "3b13bbd8cc485c18",
   "outputs": [
    {
     "data": {
      "text/plain": [
       "sympy.sets.conditionset.ConditionSet"
      ]
     },
     "execution_count": 29,
     "metadata": {},
     "output_type": "execute_result"
    }
   ],
   "execution_count": 29
  },
  {
   "metadata": {},
   "cell_type": "markdown",
   "source": "## Solving systems of linear equations",
   "id": "af390b4096502550"
  },
  {
   "metadata": {
    "ExecuteTime": {
     "end_time": "2025-03-30T10:55:49.739807Z",
     "start_time": "2025-03-30T10:55:49.729677Z"
    }
   },
   "cell_type": "code",
   "source": [
    "# defining the first equation\n",
    "\n",
    "eq_lin1 = sp.Eq(x, 3*y + z)\n",
    "eq_lin1"
   ],
   "id": "396351de9b007e59",
   "outputs": [
    {
     "data": {
      "text/plain": [
       "Eq(x, 3*y + z)"
      ],
      "text/latex": "$\\displaystyle x = 3 y + z$"
     },
     "execution_count": 30,
     "metadata": {},
     "output_type": "execute_result"
    }
   ],
   "execution_count": 30
  },
  {
   "metadata": {
    "ExecuteTime": {
     "end_time": "2025-03-30T10:56:39.564007Z",
     "start_time": "2025-03-30T10:56:39.554369Z"
    }
   },
   "cell_type": "code",
   "source": [
    "# defining the second equation\n",
    "\n",
    "eq_lin2 = sp.Eq(5*x - 3*z, y)\n",
    "eq_lin2"
   ],
   "id": "93c33cbcada684a2",
   "outputs": [
    {
     "data": {
      "text/plain": [
       "Eq(5*x - 3*z, y)"
      ],
      "text/latex": "$\\displaystyle 5 x - 3 z = y$"
     },
     "execution_count": 32,
     "metadata": {},
     "output_type": "execute_result"
    }
   ],
   "execution_count": 32
  },
  {
   "metadata": {
    "ExecuteTime": {
     "end_time": "2025-03-30T10:57:33.696558Z",
     "start_time": "2025-03-30T10:57:33.690172Z"
    }
   },
   "cell_type": "code",
   "source": [
    "# solving the system of linear equations\n",
    "\n",
    "sp.linsolve([eq_lin1, eq_lin2], x, y, z)"
   ],
   "id": "faa9e606ea6c99e1",
   "outputs": [
    {
     "data": {
      "text/plain": [
       "{(4*z/7, -z/7, z)}"
      ],
      "text/latex": "$\\displaystyle \\left\\{\\left( \\frac{4 z}{7}, \\  - \\frac{z}{7}, \\  z\\right)\\right\\}$"
     },
     "execution_count": 33,
     "metadata": {},
     "output_type": "execute_result"
    }
   ],
   "execution_count": 33
  }
 ],
 "metadata": {
  "kernelspec": {
   "display_name": "Python 3",
   "language": "python",
   "name": "python3"
  },
  "language_info": {
   "codemirror_mode": {
    "name": "ipython",
    "version": 2
   },
   "file_extension": ".py",
   "mimetype": "text/x-python",
   "name": "python",
   "nbconvert_exporter": "python",
   "pygments_lexer": "ipython2",
   "version": "2.7.6"
  }
 },
 "nbformat": 4,
 "nbformat_minor": 5
}
