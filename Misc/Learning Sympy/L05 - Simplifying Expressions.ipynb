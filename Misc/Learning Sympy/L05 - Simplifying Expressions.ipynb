{
 "cells": [
  {
   "metadata": {},
   "cell_type": "markdown",
   "source": "# Simplifying Expressions",
   "id": "6b0c45f988f1b5bd"
  },
  {
   "cell_type": "code",
   "id": "initial_id",
   "metadata": {
    "collapsed": true,
    "ExecuteTime": {
     "end_time": "2025-03-30T12:17:49.778072Z",
     "start_time": "2025-03-30T12:17:49.229583Z"
    }
   },
   "source": "import sympy as sp",
   "outputs": [],
   "execution_count": 1
  },
  {
   "metadata": {
    "ExecuteTime": {
     "end_time": "2025-03-30T12:17:49.785741Z",
     "start_time": "2025-03-30T12:17:49.782035Z"
    }
   },
   "cell_type": "code",
   "source": "x, y = sp.symbols('x y')",
   "id": "837bbc4ab0384442",
   "outputs": [],
   "execution_count": 2
  },
  {
   "metadata": {},
   "cell_type": "markdown",
   "source": "## Factor and Expand",
   "id": "6ead4f87fa24318a"
  },
  {
   "metadata": {
    "ExecuteTime": {
     "end_time": "2025-03-30T12:17:50.094605Z",
     "start_time": "2025-03-30T12:17:50.049545Z"
    }
   },
   "cell_type": "code",
   "source": [
    "# creating a polynomial\n",
    "\n",
    "poly = x**2 + 5*x + 6\n",
    "poly"
   ],
   "id": "d8861e5bd4207f68",
   "outputs": [
    {
     "data": {
      "text/plain": [
       "x**2 + 5*x + 6"
      ],
      "text/latex": "$\\displaystyle x^{2} + 5 x + 6$"
     },
     "execution_count": 3,
     "metadata": {},
     "output_type": "execute_result"
    }
   ],
   "execution_count": 3
  },
  {
   "metadata": {
    "ExecuteTime": {
     "end_time": "2025-03-30T12:17:50.114734Z",
     "start_time": "2025-03-30T12:17:50.104880Z"
    }
   },
   "cell_type": "code",
   "source": [
    "poly =  poly.factor()\n",
    "poly"
   ],
   "id": "dec5ed17c8170486",
   "outputs": [
    {
     "data": {
      "text/plain": [
       "(x + 2)*(x + 3)"
      ],
      "text/latex": "$\\displaystyle \\left(x + 2\\right) \\left(x + 3\\right)$"
     },
     "execution_count": 4,
     "metadata": {},
     "output_type": "execute_result"
    }
   ],
   "execution_count": 4
  },
  {
   "metadata": {
    "ExecuteTime": {
     "end_time": "2025-03-30T12:17:50.133437Z",
     "start_time": "2025-03-30T12:17:50.125432Z"
    }
   },
   "cell_type": "code",
   "source": "poly.expand()",
   "id": "364383c9c62b2cde",
   "outputs": [
    {
     "data": {
      "text/plain": [
       "x**2 + 5*x + 6"
      ],
      "text/latex": "$\\displaystyle x^{2} + 5 x + 6$"
     },
     "execution_count": 5,
     "metadata": {},
     "output_type": "execute_result"
    }
   ],
   "execution_count": 5
  },
  {
   "metadata": {},
   "cell_type": "markdown",
   "source": "## Expanding other expressions",
   "id": "ab430c5bd97a799d"
  },
  {
   "metadata": {
    "ExecuteTime": {
     "end_time": "2025-03-30T12:17:50.163003Z",
     "start_time": "2025-03-30T12:17:50.153110Z"
    }
   },
   "cell_type": "code",
   "source": "sp.exp(x + y).expand()",
   "id": "41e8204e4d55dfb3",
   "outputs": [
    {
     "data": {
      "text/plain": [
       "exp(x)*exp(y)"
      ],
      "text/latex": "$\\displaystyle e^{x} e^{y}$"
     },
     "execution_count": 6,
     "metadata": {},
     "output_type": "execute_result"
    }
   ],
   "execution_count": 6
  },
  {
   "metadata": {
    "ExecuteTime": {
     "end_time": "2025-03-30T12:17:50.189467Z",
     "start_time": "2025-03-30T12:17:50.181783Z"
    }
   },
   "cell_type": "code",
   "source": [
    "# Trigonometric Expressions\n",
    "\n",
    "trig = (sp.cos(x) + sp.sin(y)) ** 2 - sp.cos(x) ** 2\n",
    "trig"
   ],
   "id": "6935e6c2ecb04240",
   "outputs": [
    {
     "data": {
      "text/plain": [
       "(sin(y) + cos(x))**2 - cos(x)**2"
      ],
      "text/latex": "$\\displaystyle \\left(\\sin{\\left(y \\right)} + \\cos{\\left(x \\right)}\\right)^{2} - \\cos^{2}{\\left(x \\right)}$"
     },
     "execution_count": 7,
     "metadata": {},
     "output_type": "execute_result"
    }
   ],
   "execution_count": 7
  },
  {
   "metadata": {
    "ExecuteTime": {
     "end_time": "2025-03-30T12:17:50.210174Z",
     "start_time": "2025-03-30T12:17:50.201614Z"
    }
   },
   "cell_type": "code",
   "source": "trig.expand()",
   "id": "f79385d5e3bf09db",
   "outputs": [
    {
     "data": {
      "text/plain": [
       "sin(y)**2 + 2*sin(y)*cos(x)"
      ],
      "text/latex": "$\\displaystyle \\sin^{2}{\\left(y \\right)} + 2 \\sin{\\left(y \\right)} \\cos{\\left(x \\right)}$"
     },
     "execution_count": 8,
     "metadata": {},
     "output_type": "execute_result"
    }
   ],
   "execution_count": 8
  },
  {
   "metadata": {},
   "cell_type": "markdown",
   "source": "## Avoiding certain simplifications",
   "id": "987594ab724bb37b"
  },
  {
   "metadata": {
    "ExecuteTime": {
     "end_time": "2025-03-30T12:17:50.239303Z",
     "start_time": "2025-03-30T12:17:50.229400Z"
    }
   },
   "cell_type": "code",
   "source": [
    "# trigonometric and exponential expressions\n",
    "\n",
    "trig_and_exp = sp.exp( x + y ) + (sp.cos(x) + sp.sin(y)) ** 2 - sp.cos(x) ** 2\n",
    "trig_and_exp"
   ],
   "id": "5ea41b65feeeec7",
   "outputs": [
    {
     "data": {
      "text/plain": [
       "(sin(y) + cos(x))**2 + exp(x + y) - cos(x)**2"
      ],
      "text/latex": "$\\displaystyle \\left(\\sin{\\left(y \\right)} + \\cos{\\left(x \\right)}\\right)^{2} + e^{x + y} - \\cos^{2}{\\left(x \\right)}$"
     },
     "execution_count": 9,
     "metadata": {},
     "output_type": "execute_result"
    }
   ],
   "execution_count": 9
  },
  {
   "metadata": {
    "ExecuteTime": {
     "end_time": "2025-03-30T12:17:50.276612Z",
     "start_time": "2025-03-30T12:17:50.269479Z"
    }
   },
   "cell_type": "code",
   "source": "trig_and_exp.expand()",
   "id": "a3cbf01ba41a0848",
   "outputs": [
    {
     "data": {
      "text/plain": [
       "exp(x)*exp(y) + sin(y)**2 + 2*sin(y)*cos(x)"
      ],
      "text/latex": "$\\displaystyle e^{x} e^{y} + \\sin^{2}{\\left(y \\right)} + 2 \\sin{\\left(y \\right)} \\cos{\\left(x \\right)}$"
     },
     "execution_count": 10,
     "metadata": {},
     "output_type": "execute_result"
    }
   ],
   "execution_count": 10
  },
  {
   "metadata": {
    "ExecuteTime": {
     "end_time": "2025-03-30T12:17:50.302452Z",
     "start_time": "2025-03-30T12:17:50.295083Z"
    }
   },
   "cell_type": "code",
   "source": [
    "# expanding only trigonometric terms\n",
    "\n",
    "trig_and_exp.expand(power_exp = False)"
   ],
   "id": "d57e22775553ee79",
   "outputs": [
    {
     "data": {
      "text/plain": [
       "exp(x + y) + sin(y)**2 + 2*sin(y)*cos(x)"
      ],
      "text/latex": "$\\displaystyle e^{x + y} + \\sin^{2}{\\left(y \\right)} + 2 \\sin{\\left(y \\right)} \\cos{\\left(x \\right)}$"
     },
     "execution_count": 11,
     "metadata": {},
     "output_type": "execute_result"
    }
   ],
   "execution_count": 11
  },
  {
   "metadata": {},
   "cell_type": "markdown",
   "source": "## Cancel and Apart",
   "id": "a2e68ac13ecf4700"
  },
  {
   "metadata": {
    "ExecuteTime": {
     "end_time": "2025-03-30T12:17:50.318890Z",
     "start_time": "2025-03-30T12:17:50.309486Z"
    }
   },
   "cell_type": "code",
   "source": [
    "# Defining the polynomials\n",
    "\n",
    "p = x ** 3 + 10 * x ** 2 + 31 * x + 30\n",
    "q = x ** 2 + 12 * x + 35\n",
    "\n",
    "fraction = p/q\n",
    "fraction"
   ],
   "id": "925346c11e2cace4",
   "outputs": [
    {
     "data": {
      "text/plain": [
       "(x**3 + 10*x**2 + 31*x + 30)/(x**2 + 12*x + 35)"
      ],
      "text/latex": "$\\displaystyle \\frac{x^{3} + 10 x^{2} + 31 x + 30}{x^{2} + 12 x + 35}$"
     },
     "execution_count": 12,
     "metadata": {},
     "output_type": "execute_result"
    }
   ],
   "execution_count": 12
  },
  {
   "metadata": {
    "ExecuteTime": {
     "end_time": "2025-03-30T12:17:50.344780Z",
     "start_time": "2025-03-30T12:17:50.329165Z"
    }
   },
   "cell_type": "code",
   "source": "fraction.cancel()",
   "id": "c3bbc2e22eb0f6f6",
   "outputs": [
    {
     "data": {
      "text/plain": [
       "(x**2 + 5*x + 6)/(x + 7)"
      ],
      "text/latex": "$\\displaystyle \\frac{x^{2} + 5 x + 6}{x + 7}$"
     },
     "execution_count": 13,
     "metadata": {},
     "output_type": "execute_result"
    }
   ],
   "execution_count": 13
  },
  {
   "metadata": {},
   "cell_type": "markdown",
   "source": "## Apart Method",
   "id": "fbb83e5b53cea32a"
  },
  {
   "metadata": {
    "ExecuteTime": {
     "end_time": "2025-03-30T12:17:50.377124Z",
     "start_time": "2025-03-30T12:17:50.365925Z"
    }
   },
   "cell_type": "code",
   "source": [
    "# Defining the polynomials\n",
    "\n",
    "p = x ** 3 + 10 * x ** 2 + 31 * x + 30\n",
    "q = x ** 2 + 12 * x + 35\n",
    "\n",
    "fraction = p/q\n",
    "fraction"
   ],
   "id": "baad0cf603715164",
   "outputs": [
    {
     "data": {
      "text/plain": [
       "(x**3 + 10*x**2 + 31*x + 30)/(x**2 + 12*x + 35)"
      ],
      "text/latex": "$\\displaystyle \\frac{x^{3} + 10 x^{2} + 31 x + 30}{x^{2} + 12 x + 35}$"
     },
     "execution_count": 14,
     "metadata": {},
     "output_type": "execute_result"
    }
   ],
   "execution_count": 14
  },
  {
   "metadata": {
    "ExecuteTime": {
     "end_time": "2025-03-30T12:17:50.398678Z",
     "start_time": "2025-03-30T12:17:50.387977Z"
    }
   },
   "cell_type": "code",
   "source": "fraction.apart()",
   "id": "ef83336113f0fc40",
   "outputs": [
    {
     "data": {
      "text/plain": [
       "x - 2 + 20/(x + 7)"
      ],
      "text/latex": "$\\displaystyle x - 2 + \\frac{20}{x + 7}$"
     },
     "execution_count": 15,
     "metadata": {},
     "output_type": "execute_result"
    }
   ],
   "execution_count": 15
  },
  {
   "metadata": {},
   "cell_type": "markdown",
   "source": "## The General Simplify",
   "id": "923f5fc67473c136"
  },
  {
   "metadata": {
    "ExecuteTime": {
     "end_time": "2025-03-30T12:20:54.049634Z",
     "start_time": "2025-03-30T12:20:54.041717Z"
    }
   },
   "cell_type": "code",
   "source": [
    "# Define a massive expression\n",
    "\n",
    "expn = sp.exp(x + y) + (sp.cos(x) + sp.sin(y)) ** 2 - sp.cos(x) - sp.exp(x)\n",
    "expn"
   ],
   "id": "7f9d426685eb81a5",
   "outputs": [
    {
     "data": {
      "text/plain": [
       "(sin(y) + cos(x))**2 - exp(x) + exp(x + y) - cos(x)"
      ],
      "text/latex": "$\\displaystyle \\left(\\sin{\\left(y \\right)} + \\cos{\\left(x \\right)}\\right)^{2} - e^{x} + e^{x + y} - \\cos{\\left(x \\right)}$"
     },
     "execution_count": 23,
     "metadata": {},
     "output_type": "execute_result"
    }
   ],
   "execution_count": 23
  },
  {
   "metadata": {
    "ExecuteTime": {
     "end_time": "2025-03-30T12:20:55.435710Z",
     "start_time": "2025-03-30T12:20:55.373353Z"
    }
   },
   "cell_type": "code",
   "source": [
    "# general simpificaiton\n",
    "\n",
    "expn.simplify()"
   ],
   "id": "abf360c68494e8c9",
   "outputs": [
    {
     "data": {
      "text/plain": [
       "(sin(y) + cos(x))**2 - exp(x) + exp(x + y) - cos(x)"
      ],
      "text/latex": "$\\displaystyle \\left(\\sin{\\left(y \\right)} + \\cos{\\left(x \\right)}\\right)^{2} - e^{x} + e^{x + y} - \\cos{\\left(x \\right)}$"
     },
     "execution_count": 24,
     "metadata": {},
     "output_type": "execute_result"
    }
   ],
   "execution_count": 24
  }
 ],
 "metadata": {
  "kernelspec": {
   "display_name": "Python 3",
   "language": "python",
   "name": "python3"
  },
  "language_info": {
   "codemirror_mode": {
    "name": "ipython",
    "version": 2
   },
   "file_extension": ".py",
   "mimetype": "text/x-python",
   "name": "python",
   "nbconvert_exporter": "python",
   "pygments_lexer": "ipython2",
   "version": "2.7.6"
  }
 },
 "nbformat": 4,
 "nbformat_minor": 5
}
