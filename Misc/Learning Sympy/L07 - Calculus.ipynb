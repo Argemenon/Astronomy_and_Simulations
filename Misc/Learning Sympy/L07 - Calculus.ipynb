{
 "cells": [
  {
   "metadata": {},
   "cell_type": "markdown",
   "source": "# Calculus",
   "id": "11f1874a09fc31d3"
  },
  {
   "cell_type": "code",
   "id": "initial_id",
   "metadata": {
    "collapsed": true,
    "ExecuteTime": {
     "end_time": "2025-03-30T12:36:34.209739Z",
     "start_time": "2025-03-30T12:36:34.205316Z"
    }
   },
   "source": [
    "import sympy as sp\n",
    "\n",
    "x, y = sp.symbols('x y')"
   ],
   "outputs": [],
   "execution_count": 2
  },
  {
   "metadata": {},
   "cell_type": "markdown",
   "source": "## Derivatives",
   "id": "27d90fba99868596"
  },
  {
   "metadata": {
    "ExecuteTime": {
     "end_time": "2025-03-30T12:37:17.270634Z",
     "start_time": "2025-03-30T12:37:17.222790Z"
    }
   },
   "cell_type": "code",
   "source": [
    "# Defining an Expression\n",
    "\n",
    "expr = sp.exp(2 * x) + sp.sin(x)\n",
    "expr"
   ],
   "id": "99d9d8548a5b7825",
   "outputs": [
    {
     "data": {
      "text/plain": [
       "exp(2*x) + sin(x)"
      ],
      "text/latex": "$\\displaystyle e^{2 x} + \\sin{\\left(x \\right)}$"
     },
     "execution_count": 3,
     "metadata": {},
     "output_type": "execute_result"
    }
   ],
   "execution_count": 3
  },
  {
   "metadata": {
    "ExecuteTime": {
     "end_time": "2025-03-30T12:37:30.455789Z",
     "start_time": "2025-03-30T12:37:30.442864Z"
    }
   },
   "cell_type": "code",
   "source": "sp.diff(expr, x)",
   "id": "2c0e88af4e56a4e1",
   "outputs": [
    {
     "data": {
      "text/plain": [
       "2*exp(2*x) + cos(x)"
      ],
      "text/latex": "$\\displaystyle 2 e^{2 x} + \\cos{\\left(x \\right)}$"
     },
     "execution_count": 4,
     "metadata": {},
     "output_type": "execute_result"
    }
   ],
   "execution_count": 4
  },
  {
   "metadata": {
    "ExecuteTime": {
     "end_time": "2025-03-30T12:38:45.493024Z",
     "start_time": "2025-03-30T12:38:45.484428Z"
    }
   },
   "cell_type": "code",
   "source": "sp.diff(expr, x, x) # Take derivative twice!",
   "id": "80ebcf83202274cf",
   "outputs": [
    {
     "data": {
      "text/plain": [
       "4*exp(2*x) - sin(x)"
      ],
      "text/latex": "$\\displaystyle 4 e^{2 x} - \\sin{\\left(x \\right)}$"
     },
     "execution_count": 6,
     "metadata": {},
     "output_type": "execute_result"
    }
   ],
   "execution_count": 6
  },
  {
   "metadata": {
    "ExecuteTime": {
     "end_time": "2025-03-30T12:39:05.534826Z",
     "start_time": "2025-03-30T12:39:05.524440Z"
    }
   },
   "cell_type": "code",
   "source": "sp.diff(expr, x, 3)",
   "id": "64e1668f1e0dbc08",
   "outputs": [
    {
     "data": {
      "text/plain": [
       "8*exp(2*x) - cos(x)"
      ],
      "text/latex": "$\\displaystyle 8 e^{2 x} - \\cos{\\left(x \\right)}$"
     },
     "execution_count": 9,
     "metadata": {},
     "output_type": "execute_result"
    }
   ],
   "execution_count": 9
  },
  {
   "metadata": {},
   "cell_type": "markdown",
   "source": "## Rewriting Functions",
   "id": "6cdec5613257ca2b"
  },
  {
   "metadata": {
    "ExecuteTime": {
     "end_time": "2025-03-30T12:39:58.516432Z",
     "start_time": "2025-03-30T12:39:58.501651Z"
    }
   },
   "cell_type": "code",
   "source": [
    "# A new expression\n",
    "\n",
    "expr = sp.exp(sp.sinh(x))/ sp.exp(sp.exp(x) / 2)\n",
    "expr"
   ],
   "id": "df31222e9e3b525d",
   "outputs": [
    {
     "data": {
      "text/plain": [
       "exp(-exp(x)/2)*exp(sinh(x))"
      ],
      "text/latex": "$\\displaystyle e^{- \\frac{e^{x}}{2}} e^{\\sinh{\\left(x \\right)}}$"
     },
     "execution_count": 10,
     "metadata": {},
     "output_type": "execute_result"
    }
   ],
   "execution_count": 10
  },
  {
   "metadata": {
    "ExecuteTime": {
     "end_time": "2025-03-30T12:40:46.240716Z",
     "start_time": "2025-03-30T12:40:46.231047Z"
    }
   },
   "cell_type": "code",
   "source": [
    "expo = expr.rewrite(sp.exp)\n",
    "expo"
   ],
   "id": "1eb59bf25311a435",
   "outputs": [
    {
     "data": {
      "text/plain": [
       "exp(exp(x)/2 - exp(-x)/2)*exp(-exp(x)/2)"
      ],
      "text/latex": "$\\displaystyle e^{\\frac{e^{x}}{2} - \\frac{e^{- x}}{2}} e^{- \\frac{e^{x}}{2}}$"
     },
     "execution_count": 12,
     "metadata": {},
     "output_type": "execute_result"
    }
   ],
   "execution_count": 12
  },
  {
   "metadata": {
    "ExecuteTime": {
     "end_time": "2025-03-30T12:41:01.883983Z",
     "start_time": "2025-03-30T12:41:01.706438Z"
    }
   },
   "cell_type": "code",
   "source": "expo.simplify()",
   "id": "2728b17ad79e3466",
   "outputs": [
    {
     "data": {
      "text/plain": [
       "exp(-exp(-x)/2)"
      ],
      "text/latex": "$\\displaystyle e^{- \\frac{e^{- x}}{2}}$"
     },
     "execution_count": 13,
     "metadata": {},
     "output_type": "execute_result"
    }
   ],
   "execution_count": 13
  },
  {
   "metadata": {},
   "cell_type": "markdown",
   "source": "## Rewriting and Partial Derivatives",
   "id": "b8b6305881f297f4"
  },
  {
   "metadata": {
    "ExecuteTime": {
     "end_time": "2025-03-30T12:42:57.446028Z",
     "start_time": "2025-03-30T12:42:57.437918Z"
    }
   },
   "cell_type": "code",
   "source": [
    "# Defining a multivariable function\n",
    "\n",
    "two_variables = sp.cos(x) * sp.cot(2 * y) ** 2\n",
    "two_variables"
   ],
   "id": "3fb9ef10897f6d61",
   "outputs": [
    {
     "data": {
      "text/plain": [
       "cos(x)*cot(2*y)**2"
      ],
      "text/latex": "$\\displaystyle \\cos{\\left(x \\right)} \\cot^{2}{\\left(2 y \\right)}$"
     },
     "execution_count": 15,
     "metadata": {},
     "output_type": "execute_result"
    }
   ],
   "execution_count": 15
  },
  {
   "metadata": {
    "ExecuteTime": {
     "end_time": "2025-03-30T12:44:12.742251Z",
     "start_time": "2025-03-30T12:44:12.728766Z"
    }
   },
   "cell_type": "code",
   "source": [
    "# differentiating with respect to y\n",
    "\n",
    "partial_y = two_variables.diff(y)\n",
    "partial_y"
   ],
   "id": "d50fa7656e5c0444",
   "outputs": [
    {
     "data": {
      "text/plain": [
       "(-4*cot(2*y)**2 - 4)*cos(x)*cot(2*y)"
      ],
      "text/latex": "$\\displaystyle \\left(- 4 \\cot^{2}{\\left(2 y \\right)} - 4\\right) \\cos{\\left(x \\right)} \\cot{\\left(2 y \\right)}$"
     },
     "execution_count": 16,
     "metadata": {},
     "output_type": "execute_result"
    }
   ],
   "execution_count": 16
  },
  {
   "metadata": {
    "ExecuteTime": {
     "end_time": "2025-03-30T12:44:50.286836Z",
     "start_time": "2025-03-30T12:44:50.277786Z"
    }
   },
   "cell_type": "code",
   "source": "partial_y.rewrite(sp.sin)",
   "id": "84ebf66d619e14a",
   "outputs": [
    {
     "data": {
      "text/plain": [
       "(-4 - sin(4*y)**2/sin(2*y)**4)*sin(4*y)*sin(x + pi/2)/(2*sin(2*y)**2)"
      ],
      "text/latex": "$\\displaystyle \\frac{\\left(-4 - \\frac{\\sin^{2}{\\left(4 y \\right)}}{\\sin^{4}{\\left(2 y \\right)}}\\right) \\sin{\\left(4 y \\right)} \\sin{\\left(x + \\frac{\\pi}{2} \\right)}}{2 \\sin^{2}{\\left(2 y \\right)}}$"
     },
     "execution_count": 17,
     "metadata": {},
     "output_type": "execute_result"
    }
   ],
   "execution_count": 17
  },
  {
   "metadata": {
    "ExecuteTime": {
     "end_time": "2025-03-30T12:45:24.070880Z",
     "start_time": "2025-03-30T12:45:24.031202Z"
    }
   },
   "cell_type": "code",
   "source": [
    "simplified_y = partial_y.simplify()\n",
    "simplified_y"
   ],
   "id": "9317aed3d438b026",
   "outputs": [
    {
     "data": {
      "text/plain": [
       "-4*cos(x)*cot(2*y)/sin(2*y)**2"
      ],
      "text/latex": "$\\displaystyle - \\frac{4 \\cos{\\left(x \\right)} \\cot{\\left(2 y \\right)}}{\\sin^{2}{\\left(2 y \\right)}}$"
     },
     "execution_count": 19,
     "metadata": {},
     "output_type": "execute_result"
    }
   ],
   "execution_count": 19
  },
  {
   "metadata": {
    "ExecuteTime": {
     "end_time": "2025-03-30T12:46:02.115888Z",
     "start_time": "2025-03-30T12:46:02.107591Z"
    }
   },
   "cell_type": "code",
   "source": "simplified_y.rewrite(sp.sin)",
   "id": "3cb9969872e67081",
   "outputs": [
    {
     "data": {
      "text/plain": [
       "-2*sin(4*y)*sin(x + pi/2)/sin(2*y)**4"
      ],
      "text/latex": "$\\displaystyle - \\frac{2 \\sin{\\left(4 y \\right)} \\sin{\\left(x + \\frac{\\pi}{2} \\right)}}{\\sin^{4}{\\left(2 y \\right)}}$"
     },
     "execution_count": 24,
     "metadata": {},
     "output_type": "execute_result"
    }
   ],
   "execution_count": 24
  },
  {
   "metadata": {
    "ExecuteTime": {
     "end_time": "2025-03-30T15:47:50.372373Z",
     "start_time": "2025-03-30T15:47:50.361222Z"
    }
   },
   "cell_type": "code",
   "source": [
    "# Taking the third derivative with respect to x and second with respect to y\n",
    "\n",
    "two_variables.diff(y, 2, x, 3)"
   ],
   "id": "117db3499ab9dc37",
   "outputs": [
    {
     "data": {
      "text/plain": [
       "8*(cot(2*y)**2 + 1)*(3*cot(2*y)**2 + 1)*sin(x)"
      ],
      "text/latex": "$\\displaystyle 8 \\left(\\cot^{2}{\\left(2 y \\right)} + 1\\right) \\left(3 \\cot^{2}{\\left(2 y \\right)} + 1\\right) \\sin{\\left(x \\right)}$"
     },
     "execution_count": 28,
     "metadata": {},
     "output_type": "execute_result"
    }
   ],
   "execution_count": 28
  }
 ],
 "metadata": {
  "kernelspec": {
   "display_name": "Python 3",
   "language": "python",
   "name": "python3"
  },
  "language_info": {
   "codemirror_mode": {
    "name": "ipython",
    "version": 2
   },
   "file_extension": ".py",
   "mimetype": "text/x-python",
   "name": "python",
   "nbconvert_exporter": "python",
   "pygments_lexer": "ipython2",
   "version": "2.7.6"
  }
 },
 "nbformat": 4,
 "nbformat_minor": 5
}
