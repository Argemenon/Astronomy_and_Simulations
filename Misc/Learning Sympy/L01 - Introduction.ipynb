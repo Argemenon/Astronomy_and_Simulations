{
 "cells": [
  {
   "metadata": {},
   "cell_type": "markdown",
   "source": "# Introduction to SymPy",
   "id": "f73e1cf18cab1794"
  },
  {
   "metadata": {
    "ExecuteTime": {
     "end_time": "2025-03-30T09:13:06.231231Z",
     "start_time": "2025-03-30T09:13:06.226478Z"
    }
   },
   "cell_type": "code",
   "source": [
    "import  sympy as sp\n",
    "import  math"
   ],
   "id": "4cb2c84749270b98",
   "outputs": [],
   "execution_count": 4
  },
  {
   "metadata": {
    "ExecuteTime": {
     "end_time": "2025-03-30T09:11:46.847182Z",
     "start_time": "2025-03-30T09:11:46.838442Z"
    }
   },
   "cell_type": "code",
   "source": "sp.sqrt(2)",
   "id": "b48e14a6dee5d865",
   "outputs": [
    {
     "data": {
      "text/plain": [
       "sqrt(2)"
      ],
      "text/latex": "$\\displaystyle \\sqrt{2}$"
     },
     "execution_count": 2,
     "metadata": {},
     "output_type": "execute_result"
    }
   ],
   "execution_count": 2
  },
  {
   "metadata": {
    "ExecuteTime": {
     "end_time": "2025-03-30T09:12:28.002350Z",
     "start_time": "2025-03-30T09:12:27.996411Z"
    }
   },
   "cell_type": "code",
   "source": "sp.sqrt(2) ** 2",
   "id": "f18becbbd0a0e62c",
   "outputs": [
    {
     "data": {
      "text/plain": [
       "2"
      ],
      "text/latex": "$\\displaystyle 2$"
     },
     "execution_count": 3,
     "metadata": {},
     "output_type": "execute_result"
    }
   ],
   "execution_count": 3
  },
  {
   "metadata": {
    "ExecuteTime": {
     "end_time": "2025-03-30T09:13:22.013919Z",
     "start_time": "2025-03-30T09:13:22.008974Z"
    }
   },
   "cell_type": "code",
   "source": "math.sqrt(2)",
   "id": "bfc538de2f8dfe09",
   "outputs": [
    {
     "data": {
      "text/plain": [
       "1.4142135623730951"
      ]
     },
     "execution_count": 5,
     "metadata": {},
     "output_type": "execute_result"
    }
   ],
   "execution_count": 5
  },
  {
   "metadata": {
    "ExecuteTime": {
     "end_time": "2025-03-30T09:13:31.309970Z",
     "start_time": "2025-03-30T09:13:31.303258Z"
    }
   },
   "cell_type": "code",
   "source": "math.sqrt(2) ** 2",
   "id": "416a4b1dc3a956fc",
   "outputs": [
    {
     "data": {
      "text/plain": [
       "2.0000000000000004"
      ]
     },
     "execution_count": 6,
     "metadata": {},
     "output_type": "execute_result"
    }
   ],
   "execution_count": 6
  }
 ],
 "metadata": {
  "kernelspec": {
   "display_name": "Python 3",
   "language": "python",
   "name": "python3"
  },
  "language_info": {
   "codemirror_mode": {
    "name": "ipython",
    "version": 2
   },
   "file_extension": ".py",
   "mimetype": "text/x-python",
   "name": "python",
   "nbconvert_exporter": "python",
   "pygments_lexer": "ipython2",
   "version": "2.7.6"
  }
 },
 "nbformat": 4,
 "nbformat_minor": 5
}
