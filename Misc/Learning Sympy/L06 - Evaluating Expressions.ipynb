{
 "cells": [
  {
   "metadata": {},
   "cell_type": "markdown",
   "source": "# Evaluating Expressions",
   "id": "ea398f78b6597a19"
  },
  {
   "metadata": {
    "ExecuteTime": {
     "end_time": "2025-03-30T12:24:08.978268Z",
     "start_time": "2025-03-30T12:24:08.375318Z"
    }
   },
   "cell_type": "code",
   "source": "import sympy as sp",
   "id": "418ee7b9ffab354a",
   "outputs": [],
   "execution_count": 2
  },
  {
   "metadata": {},
   "cell_type": "markdown",
   "source": "## Real, Positive or Integer Symbols",
   "id": "7c331bdfe9d8120f"
  },
  {
   "cell_type": "code",
   "id": "initial_id",
   "metadata": {
    "collapsed": true,
    "ExecuteTime": {
     "end_time": "2025-03-30T12:24:10.680851Z",
     "start_time": "2025-03-30T12:24:10.671293Z"
    }
   },
   "source": [
    "z = sp.Symbol('z')\n",
    "sp.log(sp.exp(z))"
   ],
   "outputs": [
    {
     "data": {
      "text/plain": [
       "log(exp(z))"
      ],
      "text/latex": "$\\displaystyle \\log{\\left(e^{z} \\right)}$"
     },
     "execution_count": 3,
     "metadata": {},
     "output_type": "execute_result"
    }
   ],
   "execution_count": 3
  },
  {
   "metadata": {
    "ExecuteTime": {
     "end_time": "2025-03-30T12:24:59.142838Z",
     "start_time": "2025-03-30T12:24:59.138477Z"
    }
   },
   "cell_type": "code",
   "source": "x0, x1, x2 = sp.symbols('x0:3', real =True)",
   "id": "ffd9e50352d0f9fc",
   "outputs": [],
   "execution_count": 4
  },
  {
   "metadata": {
    "ExecuteTime": {
     "end_time": "2025-03-30T12:25:18.267092Z",
     "start_time": "2025-03-30T12:25:18.260635Z"
    }
   },
   "cell_type": "code",
   "source": "sp.log(sp.exp(x0))",
   "id": "61da04ffe0aeef6e",
   "outputs": [
    {
     "data": {
      "text/plain": [
       "x0"
      ],
      "text/latex": "$\\displaystyle x_{0}$"
     },
     "execution_count": 5,
     "metadata": {},
     "output_type": "execute_result"
    }
   ],
   "execution_count": 5
  },
  {
   "metadata": {
    "ExecuteTime": {
     "end_time": "2025-03-30T12:25:43.571980Z",
     "start_time": "2025-03-30T12:25:43.566433Z"
    }
   },
   "cell_type": "code",
   "source": "sp.sqrt(x0 ** 2)",
   "id": "29b7ddde98dd8424",
   "outputs": [
    {
     "data": {
      "text/plain": [
       "Abs(x0)"
      ],
      "text/latex": "$\\displaystyle \\left|{x_{0}}\\right|$"
     },
     "execution_count": 6,
     "metadata": {},
     "output_type": "execute_result"
    }
   ],
   "execution_count": 6
  },
  {
   "metadata": {
    "ExecuteTime": {
     "end_time": "2025-03-30T12:26:05.037656Z",
     "start_time": "2025-03-30T12:26:05.034056Z"
    }
   },
   "cell_type": "code",
   "source": [
    "# Making a positive symbol\n",
    "\n",
    "x = sp.Symbol('x', positive=True)"
   ],
   "id": "5c825f2b8b843861",
   "outputs": [],
   "execution_count": 7
  },
  {
   "metadata": {
    "ExecuteTime": {
     "end_time": "2025-03-30T12:26:12.044849Z",
     "start_time": "2025-03-30T12:26:12.039438Z"
    }
   },
   "cell_type": "code",
   "source": "sp.sqrt(x ** 2)",
   "id": "d82f89b7a9e5daad",
   "outputs": [
    {
     "data": {
      "text/plain": [
       "x"
      ],
      "text/latex": "$\\displaystyle x$"
     },
     "execution_count": 8,
     "metadata": {},
     "output_type": "execute_result"
    }
   ],
   "execution_count": 8
  },
  {
   "metadata": {
    "ExecuteTime": {
     "end_time": "2025-03-30T12:26:53.865316Z",
     "start_time": "2025-03-30T12:26:53.861401Z"
    }
   },
   "cell_type": "code",
   "source": [
    "# Make an integer symbol\n",
    "\n",
    "n = sp.Symbol('n', integer=True)"
   ],
   "id": "a75e00ad8e22c5b3",
   "outputs": [],
   "execution_count": 9
  },
  {
   "metadata": {
    "ExecuteTime": {
     "end_time": "2025-03-30T12:27:21.534127Z",
     "start_time": "2025-03-30T12:27:21.527600Z"
    }
   },
   "cell_type": "code",
   "source": "(-1) ** (2*n)",
   "id": "ab65f83223ce1740",
   "outputs": [
    {
     "data": {
      "text/plain": [
       "1"
      ],
      "text/latex": "$\\displaystyle 1$"
     },
     "execution_count": 10,
     "metadata": {},
     "output_type": "execute_result"
    }
   ],
   "execution_count": 10
  },
  {
   "metadata": {},
   "cell_type": "markdown",
   "source": "## Point Evaluation of Expressions",
   "id": "7f2981004fb70869"
  },
  {
   "metadata": {
    "ExecuteTime": {
     "end_time": "2025-03-30T12:30:22.781439Z",
     "start_time": "2025-03-30T12:30:22.738833Z"
    }
   },
   "cell_type": "code",
   "source": [
    "# Creating an expression\n",
    "\n",
    "expr = x0 ** 2 + 5\n",
    "expr"
   ],
   "id": "478b497640f0eb9b",
   "outputs": [
    {
     "data": {
      "text/plain": [
       "x0**2 + 5"
      ],
      "text/latex": "$\\displaystyle x_{0}^{2} + 5$"
     },
     "execution_count": 12,
     "metadata": {},
     "output_type": "execute_result"
    }
   ],
   "execution_count": 12
  },
  {
   "metadata": {
    "ExecuteTime": {
     "end_time": "2025-03-30T12:32:28.990897Z",
     "start_time": "2025-03-30T12:32:28.984534Z"
    }
   },
   "cell_type": "code",
   "source": [
    "num = expr.subs(x0, sp.pi)\n",
    "num"
   ],
   "id": "4c86c5f43501e85a",
   "outputs": [
    {
     "data": {
      "text/plain": [
       "5 + pi**2"
      ],
      "text/latex": "$\\displaystyle 5 + \\pi^{2}$"
     },
     "execution_count": 16,
     "metadata": {},
     "output_type": "execute_result"
    }
   ],
   "execution_count": 16
  },
  {
   "metadata": {
    "ExecuteTime": {
     "end_time": "2025-03-30T12:32:00.355509Z",
     "start_time": "2025-03-30T12:32:00.349044Z"
    }
   },
   "cell_type": "code",
   "source": [
    "# Inserting another expression\n",
    "\n",
    "expr.subs(x0, x1**2)"
   ],
   "id": "6dc6bd9a49ffed29",
   "outputs": [
    {
     "data": {
      "text/plain": [
       "x1**4 + 5"
      ],
      "text/latex": "$\\displaystyle x_{1}^{4} + 5$"
     },
     "execution_count": 15,
     "metadata": {},
     "output_type": "execute_result"
    }
   ],
   "execution_count": 15
  },
  {
   "metadata": {},
   "cell_type": "markdown",
   "source": "## Going Numeric",
   "id": "2c4b7019eb99576d"
  },
  {
   "metadata": {
    "ExecuteTime": {
     "end_time": "2025-03-30T12:32:47.994912Z",
     "start_time": "2025-03-30T12:32:47.989881Z"
    }
   },
   "cell_type": "code",
   "source": "sp.N(num)",
   "id": "74145999323acb74",
   "outputs": [
    {
     "data": {
      "text/plain": [
       "14.8696044010894"
      ],
      "text/latex": "$\\displaystyle 14.8696044010894$"
     },
     "execution_count": 17,
     "metadata": {},
     "output_type": "execute_result"
    }
   ],
   "execution_count": 17
  },
  {
   "metadata": {
    "ExecuteTime": {
     "end_time": "2025-03-30T12:33:25.716740Z",
     "start_time": "2025-03-30T12:33:25.710897Z"
    }
   },
   "cell_type": "code",
   "source": [
    "# changing the number of decimals\n",
    "\n",
    "sp.N(num, 4)"
   ],
   "id": "71a6274ec20b4da9",
   "outputs": [
    {
     "data": {
      "text/plain": [
       "14.87"
      ],
      "text/latex": "$\\displaystyle 14.87$"
     },
     "execution_count": 19,
     "metadata": {},
     "output_type": "execute_result"
    }
   ],
   "execution_count": 19
  },
  {
   "metadata": {
    "ExecuteTime": {
     "end_time": "2025-03-30T12:34:01.613802Z",
     "start_time": "2025-03-30T12:34:01.607921Z"
    }
   },
   "cell_type": "code",
   "source": [
    "# can also make constants in expressions numeric\n",
    "\n",
    "expr = sp.pi + x**2\n",
    "expr"
   ],
   "id": "e78489cf817a294f",
   "outputs": [
    {
     "data": {
      "text/plain": [
       "x**2 + pi"
      ],
      "text/latex": "$\\displaystyle x^{2} + \\pi$"
     },
     "execution_count": 20,
     "metadata": {},
     "output_type": "execute_result"
    }
   ],
   "execution_count": 20
  },
  {
   "metadata": {
    "ExecuteTime": {
     "end_time": "2025-03-30T12:34:34.296706Z",
     "start_time": "2025-03-30T12:34:34.289648Z"
    }
   },
   "cell_type": "code",
   "source": "sp.N(expr, 4)",
   "id": "b9e87970a4e9bbc1",
   "outputs": [
    {
     "data": {
      "text/plain": [
       "x**2 + 3.142"
      ],
      "text/latex": "$\\displaystyle x^{2} + 3.142$"
     },
     "execution_count": 22,
     "metadata": {},
     "output_type": "execute_result"
    }
   ],
   "execution_count": 22
  }
 ],
 "metadata": {
  "kernelspec": {
   "display_name": "Python 3",
   "language": "python",
   "name": "python3"
  },
  "language_info": {
   "codemirror_mode": {
    "name": "ipython",
    "version": 2
   },
   "file_extension": ".py",
   "mimetype": "text/x-python",
   "name": "python",
   "nbconvert_exporter": "python",
   "pygments_lexer": "ipython2",
   "version": "2.7.6"
  }
 },
 "nbformat": 4,
 "nbformat_minor": 5
}
