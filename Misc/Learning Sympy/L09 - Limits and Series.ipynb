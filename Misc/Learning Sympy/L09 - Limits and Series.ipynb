{
 "cells": [
  {
   "metadata": {},
   "cell_type": "markdown",
   "source": "# Limits and Series",
   "id": "e1829bab9330fa24"
  },
  {
   "cell_type": "code",
   "id": "initial_id",
   "metadata": {
    "collapsed": true,
    "ExecuteTime": {
     "end_time": "2025-03-30T16:06:47.374767Z",
     "start_time": "2025-03-30T16:06:47.369688Z"
    }
   },
   "source": [
    "import sympy as sp\n",
    "\n",
    "x = sp.Symbol('x')"
   ],
   "outputs": [],
   "execution_count": 3
  },
  {
   "metadata": {
    "ExecuteTime": {
     "end_time": "2025-03-30T16:07:30.608866Z",
     "start_time": "2025-03-30T16:07:30.602373Z"
    }
   },
   "cell_type": "code",
   "source": [
    "# create a function\n",
    "\n",
    "expr = x ** 2\n",
    "expr"
   ],
   "id": "3e762ef14d3a6a86",
   "outputs": [
    {
     "data": {
      "text/plain": [
       "x**2"
      ],
      "text/latex": "$\\displaystyle x^{2}$"
     },
     "execution_count": 5,
     "metadata": {},
     "output_type": "execute_result"
    }
   ],
   "execution_count": 5
  },
  {
   "metadata": {
    "ExecuteTime": {
     "end_time": "2025-03-30T16:07:51.952121Z",
     "start_time": "2025-03-30T16:07:51.905265Z"
    }
   },
   "cell_type": "code",
   "source": [
    "# take the limit\n",
    "\n",
    "sp.limit(expr, x, 1)"
   ],
   "id": "f57417d062f08ebe",
   "outputs": [
    {
     "data": {
      "text/plain": [
       "1"
      ],
      "text/latex": "$\\displaystyle 1$"
     },
     "execution_count": 6,
     "metadata": {},
     "output_type": "execute_result"
    }
   ],
   "execution_count": 6
  },
  {
   "metadata": {},
   "cell_type": "markdown",
   "source": "## Limit at infinity",
   "id": "7965a0098e02d1"
  },
  {
   "metadata": {
    "ExecuteTime": {
     "end_time": "2025-03-30T16:08:48.124570Z",
     "start_time": "2025-03-30T16:08:48.117050Z"
    }
   },
   "cell_type": "code",
   "source": [
    "exponential = x / sp.exp(x)\n",
    "exponential"
   ],
   "id": "7c17e5e5e668722c",
   "outputs": [
    {
     "data": {
      "text/plain": [
       "x*exp(-x)"
      ],
      "text/latex": "$\\displaystyle x e^{- x}$"
     },
     "execution_count": 7,
     "metadata": {},
     "output_type": "execute_result"
    }
   ],
   "execution_count": 7
  },
  {
   "metadata": {
    "ExecuteTime": {
     "end_time": "2025-03-30T16:09:07.900747Z",
     "start_time": "2025-03-30T16:09:07.857697Z"
    }
   },
   "cell_type": "code",
   "source": [
    "# Taking the limit\n",
    "sp.limit(exponential, x, sp.oo)"
   ],
   "id": "a1bca9e976e0d8d5",
   "outputs": [
    {
     "data": {
      "text/plain": [
       "0"
      ],
      "text/latex": "$\\displaystyle 0$"
     },
     "execution_count": 8,
     "metadata": {},
     "output_type": "execute_result"
    }
   ],
   "execution_count": 8
  },
  {
   "metadata": {
    "ExecuteTime": {
     "end_time": "2025-03-30T16:10:18.121284Z",
     "start_time": "2025-03-30T16:10:18.115805Z"
    }
   },
   "cell_type": "code",
   "source": [
    "expr = 1 / x\n",
    "expr"
   ],
   "id": "d4a9ef8808c247f1",
   "outputs": [
    {
     "data": {
      "text/plain": [
       "1/x"
      ],
      "text/latex": "$\\displaystyle \\frac{1}{x}$"
     },
     "execution_count": 9,
     "metadata": {},
     "output_type": "execute_result"
    }
   ],
   "execution_count": 9
  },
  {
   "metadata": {
    "ExecuteTime": {
     "end_time": "2025-03-30T16:10:31.927102Z",
     "start_time": "2025-03-30T16:10:31.921920Z"
    }
   },
   "cell_type": "code",
   "source": "sp.limit(expr, x, 0)",
   "id": "d1a79b9032af2bb",
   "outputs": [
    {
     "data": {
      "text/plain": [
       "oo"
      ],
      "text/latex": "$\\displaystyle \\infty$"
     },
     "execution_count": 10,
     "metadata": {},
     "output_type": "execute_result"
    }
   ],
   "execution_count": 10
  },
  {
   "metadata": {
    "ExecuteTime": {
     "end_time": "2025-03-30T16:10:51.083108Z",
     "start_time": "2025-03-30T16:10:51.077330Z"
    }
   },
   "cell_type": "code",
   "source": "sp.limit(expr, x, 0, '-')",
   "id": "d5f3f36b9027bdb0",
   "outputs": [
    {
     "data": {
      "text/plain": [
       "-oo"
      ],
      "text/latex": "$\\displaystyle -\\infty$"
     },
     "execution_count": 11,
     "metadata": {},
     "output_type": "execute_result"
    }
   ],
   "execution_count": 11
  },
  {
   "metadata": {
    "ExecuteTime": {
     "end_time": "2025-03-30T16:11:17.802203Z",
     "start_time": "2025-03-30T16:11:17.795525Z"
    }
   },
   "cell_type": "code",
   "source": "sp.limit(expr, x, 0, '+-')",
   "id": "61d0d3e7a4344f3b",
   "outputs": [
    {
     "data": {
      "text/plain": [
       "zoo"
      ],
      "text/latex": "$\\displaystyle \\tilde{\\infty}$"
     },
     "execution_count": 12,
     "metadata": {},
     "output_type": "execute_result"
    }
   ],
   "execution_count": 12
  },
  {
   "metadata": {},
   "cell_type": "markdown",
   "source": "## Series",
   "id": "f6adb242d9bf2a74"
  },
  {
   "metadata": {
    "ExecuteTime": {
     "end_time": "2025-03-30T16:12:53.864923Z",
     "start_time": "2025-03-30T16:12:53.814182Z"
    }
   },
   "cell_type": "code",
   "source": [
    "# Finding the Taylor series\n",
    "sp.series(sp.sin(x), x, sp.pi/2)"
   ],
   "id": "57352282f2a0041",
   "outputs": [
    {
     "data": {
      "text/plain": [
       "1 - (x - pi/2)**2/2 + (x - pi/2)**4/24 + O((x - pi/2)**6, (x, pi/2))"
      ],
      "text/latex": "$\\displaystyle 1 - \\frac{\\left(x - \\frac{\\pi}{2}\\right)^{2}}{2} + \\frac{\\left(x - \\frac{\\pi}{2}\\right)^{4}}{24} + O\\left(\\left(x - \\frac{\\pi}{2}\\right)^{6}; x\\rightarrow \\frac{\\pi}{2}\\right)$"
     },
     "execution_count": 13,
     "metadata": {},
     "output_type": "execute_result"
    }
   ],
   "execution_count": 13
  },
  {
   "metadata": {
    "ExecuteTime": {
     "end_time": "2025-03-30T16:13:38.785574Z",
     "start_time": "2025-03-30T16:13:38.779151Z"
    }
   },
   "cell_type": "code",
   "source": [
    "expr = sp.exp(sp.sin(x))\n",
    "expr"
   ],
   "id": "e375d69f09dcfcbb",
   "outputs": [
    {
     "data": {
      "text/plain": [
       "exp(sin(x))"
      ],
      "text/latex": "$\\displaystyle e^{\\sin{\\left(x \\right)}}$"
     },
     "execution_count": 14,
     "metadata": {},
     "output_type": "execute_result"
    }
   ],
   "execution_count": 14
  },
  {
   "metadata": {
    "ExecuteTime": {
     "end_time": "2025-03-30T16:39:31.458792Z",
     "start_time": "2025-03-30T16:39:31.391164Z"
    }
   },
   "cell_type": "code",
   "source": "sp.series(expr, x, 0, n=5)",
   "id": "654a61a406b96ca2",
   "outputs": [
    {
     "data": {
      "text/plain": [
       "1 + x + x**2/2 - x**4/8 + O(x**5)"
      ],
      "text/latex": "$\\displaystyle 1 + x + \\frac{x^{2}}{2} - \\frac{x^{4}}{8} + O\\left(x^{5}\\right)$"
     },
     "execution_count": 21,
     "metadata": {},
     "output_type": "execute_result"
    }
   ],
   "execution_count": 21
  },
  {
   "metadata": {
    "ExecuteTime": {
     "end_time": "2025-03-30T16:40:36.680285Z",
     "start_time": "2025-03-30T16:40:36.598824Z"
    }
   },
   "cell_type": "code",
   "source": "(sp.series(expr, x, 0, n=5) * sp.series(sp.sin(x), x, 0, n=5)).expand()",
   "id": "2ec84ebf79d4318b",
   "outputs": [
    {
     "data": {
      "text/plain": [
       "x + x**2 + x**3/3 - x**4/6 + O(x**5)"
      ],
      "text/latex": "$\\displaystyle x + x^{2} + \\frac{x^{3}}{3} - \\frac{x^{4}}{6} + O\\left(x^{5}\\right)$"
     },
     "execution_count": 24,
     "metadata": {},
     "output_type": "execute_result"
    }
   ],
   "execution_count": 24
  },
  {
   "metadata": {
    "ExecuteTime": {
     "end_time": "2025-03-30T16:41:56.758135Z",
     "start_time": "2025-03-30T16:41:56.691843Z"
    }
   },
   "cell_type": "code",
   "source": "sp.series(expr, x, 0, n=5)",
   "id": "a829d71e98c5bbce",
   "outputs": [
    {
     "data": {
      "text/plain": [
       "1 + x + x**2/2 - x**4/8 + O(x**5)"
      ],
      "text/latex": "$\\displaystyle 1 + x + \\frac{x^{2}}{2} - \\frac{x^{4}}{8} + O\\left(x^{5}\\right)$"
     },
     "execution_count": 27,
     "metadata": {},
     "output_type": "execute_result"
    }
   ],
   "execution_count": 27
  },
  {
   "metadata": {
    "ExecuteTime": {
     "end_time": "2025-03-30T16:40:57.053165Z",
     "start_time": "2025-03-30T16:40:56.985511Z"
    }
   },
   "cell_type": "code",
   "source": "sp.diff(sp.series(expr, x, 0, n=5))",
   "id": "d7a4e53cf1c9bee2",
   "outputs": [
    {
     "data": {
      "text/plain": [
       "1 + x - x**3/2 + O(x**4)"
      ],
      "text/latex": "$\\displaystyle 1 + x - \\frac{x^{3}}{2} + O\\left(x^{4}\\right)$"
     },
     "execution_count": 25,
     "metadata": {},
     "output_type": "execute_result"
    }
   ],
   "execution_count": 25
  },
  {
   "metadata": {
    "ExecuteTime": {
     "end_time": "2025-03-30T16:41:45.016585Z",
     "start_time": "2025-03-30T16:41:44.901902Z"
    }
   },
   "cell_type": "code",
   "source": "sp.integrate(sp.series(expr, x, 0, n=5))",
   "id": "2e62810502232ee8",
   "outputs": [
    {
     "data": {
      "text/plain": [
       "x + x**2/2 + x**3/6 - x**5/40 + O(x**6)"
      ],
      "text/latex": "$\\displaystyle x + \\frac{x^{2}}{2} + \\frac{x^{3}}{6} - \\frac{x^{5}}{40} + O\\left(x^{6}\\right)$"
     },
     "execution_count": 26,
     "metadata": {},
     "output_type": "execute_result"
    }
   ],
   "execution_count": 26
  },
  {
   "metadata": {
    "ExecuteTime": {
     "end_time": "2025-03-30T16:42:30.973958Z",
     "start_time": "2025-03-30T16:42:30.909690Z"
    }
   },
   "cell_type": "code",
   "source": "sp.series(expr, x, 0, n=5).removeO()",
   "id": "f69809648890ee5e",
   "outputs": [
    {
     "data": {
      "text/plain": [
       "-x**4/8 + x**2/2 + x + 1"
      ],
      "text/latex": "$\\displaystyle - \\frac{x^{4}}{8} + \\frac{x^{2}}{2} + x + 1$"
     },
     "execution_count": 28,
     "metadata": {},
     "output_type": "execute_result"
    }
   ],
   "execution_count": 28
  }
 ],
 "metadata": {
  "kernelspec": {
   "display_name": "Python 3",
   "language": "python",
   "name": "python3"
  },
  "language_info": {
   "codemirror_mode": {
    "name": "ipython",
    "version": 2
   },
   "file_extension": ".py",
   "mimetype": "text/x-python",
   "name": "python",
   "nbconvert_exporter": "python",
   "pygments_lexer": "ipython2",
   "version": "2.7.6"
  }
 },
 "nbformat": 4,
 "nbformat_minor": 5
}
