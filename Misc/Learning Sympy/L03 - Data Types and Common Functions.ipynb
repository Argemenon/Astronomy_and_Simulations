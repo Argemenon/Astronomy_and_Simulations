{
 "cells": [
  {
   "cell_type": "code",
   "id": "initial_id",
   "metadata": {
    "collapsed": true,
    "ExecuteTime": {
     "end_time": "2025-03-30T10:23:11.203460Z",
     "start_time": "2025-03-30T10:23:10.560121Z"
    }
   },
   "source": "import sympy as sp",
   "outputs": [],
   "execution_count": 1
  },
  {
   "metadata": {},
   "cell_type": "markdown",
   "source": "# Data types in SymPy",
   "id": "6ed78cfac7385042"
  },
  {
   "metadata": {
    "ExecuteTime": {
     "end_time": "2025-03-30T10:26:24.113792Z",
     "start_time": "2025-03-30T10:26:24.109792Z"
    }
   },
   "cell_type": "code",
   "source": [
    "# defining a symbol\n",
    "x = sp.Symbol('x')"
   ],
   "id": "660e60f7f2e8246c",
   "outputs": [],
   "execution_count": 2
  },
  {
   "metadata": {
    "ExecuteTime": {
     "end_time": "2025-03-30T10:26:51.845658Z",
     "start_time": "2025-03-30T10:26:51.834522Z"
    }
   },
   "cell_type": "code",
   "source": [
    "expr = x**(1/3)\n",
    "expr"
   ],
   "id": "b4601ed2d3ba2b63",
   "outputs": [
    {
     "data": {
      "text/plain": [
       "x**0.333333333333333"
      ],
      "text/latex": "$\\displaystyle x^{0.333333333333333}$"
     },
     "execution_count": 3,
     "metadata": {},
     "output_type": "execute_result"
    }
   ],
   "execution_count": 3
  },
  {
   "metadata": {
    "ExecuteTime": {
     "end_time": "2025-03-30T10:27:49.194955Z",
     "start_time": "2025-03-30T10:27:49.187287Z"
    }
   },
   "cell_type": "code",
   "source": "expr ** (1/5)",
   "id": "f22a773ca78670c3",
   "outputs": [
    {
     "data": {
      "text/plain": [
       "x**0.0666666666666667"
      ],
      "text/latex": "$\\displaystyle x^{0.0666666666666667}$"
     },
     "execution_count": 5,
     "metadata": {},
     "output_type": "execute_result"
    }
   ],
   "execution_count": 5
  },
  {
   "metadata": {},
   "cell_type": "markdown",
   "source": "## SymPy's Integer Type",
   "id": "dacce6a93913cf17"
  },
  {
   "metadata": {
    "ExecuteTime": {
     "end_time": "2025-03-30T10:28:55.855950Z",
     "start_time": "2025-03-30T10:28:55.850439Z"
    }
   },
   "cell_type": "code",
   "source": [
    "# SymPy's integer type\n",
    "expr = x ** (sp.Integer(1) / sp.Integer(3))\n",
    "expr"
   ],
   "id": "89d0a10e548fd7bd",
   "outputs": [
    {
     "data": {
      "text/plain": [
       "x**(1/3)"
      ],
      "text/latex": "$\\displaystyle \\sqrt[3]{x}$"
     },
     "execution_count": 6,
     "metadata": {},
     "output_type": "execute_result"
    }
   ],
   "execution_count": 6
  },
  {
   "metadata": {
    "ExecuteTime": {
     "end_time": "2025-03-30T10:29:21.780761Z",
     "start_time": "2025-03-30T10:29:21.774610Z"
    }
   },
   "cell_type": "code",
   "source": [
    "expr ** (sp.Integer(1) / sp.Integer(5))\n",
    "expr"
   ],
   "id": "70f3cdf4b66da715",
   "outputs": [
    {
     "data": {
      "text/plain": [
       "x**(1/3)"
      ],
      "text/latex": "$\\displaystyle \\sqrt[3]{x}$"
     },
     "execution_count": 7,
     "metadata": {},
     "output_type": "execute_result"
    }
   ],
   "execution_count": 7
  },
  {
   "metadata": {
    "ExecuteTime": {
     "end_time": "2025-03-30T10:30:01.924643Z",
     "start_time": "2025-03-30T10:30:01.920044Z"
    }
   },
   "cell_type": "code",
   "source": [
    "# even more simple\n",
    "\n",
    "expr ** (sp.Integer(1) / 3)"
   ],
   "id": "263b276c1bdacaaf",
   "outputs": [
    {
     "data": {
      "text/plain": [
       "x**(1/9)"
      ],
      "text/latex": "$\\displaystyle \\sqrt[9]{x}$"
     },
     "execution_count": 8,
     "metadata": {},
     "output_type": "execute_result"
    }
   ],
   "execution_count": 8
  },
  {
   "metadata": {
    "ExecuteTime": {
     "end_time": "2025-03-30T10:30:40.329715Z",
     "start_time": "2025-03-30T10:30:40.324720Z"
    }
   },
   "cell_type": "code",
   "source": "type(sp.Integer(1) / 5)",
   "id": "7c113e1b7df5fd28",
   "outputs": [
    {
     "data": {
      "text/plain": [
       "sympy.core.numbers.Rational"
      ]
     },
     "execution_count": 10,
     "metadata": {},
     "output_type": "execute_result"
    }
   ],
   "execution_count": 10
  },
  {
   "metadata": {},
   "cell_type": "markdown",
   "source": "### SymPy's Rational Type",
   "id": "4a8aa69c3bc80e61"
  },
  {
   "metadata": {
    "ExecuteTime": {
     "end_time": "2025-03-30T10:31:57.861996Z",
     "start_time": "2025-03-30T10:31:57.856292Z"
    }
   },
   "cell_type": "code",
   "source": [
    "# SymPy's rational object\n",
    "rational = sp.Rational(1, 3)\n",
    "rational"
   ],
   "id": "de2b53c4f111d37f",
   "outputs": [
    {
     "data": {
      "text/plain": [
       "1/3"
      ],
      "text/latex": "$\\displaystyle \\frac{1}{3}$"
     },
     "execution_count": 12,
     "metadata": {},
     "output_type": "execute_result"
    }
   ],
   "execution_count": 12
  },
  {
   "metadata": {
    "ExecuteTime": {
     "end_time": "2025-03-30T10:33:08.187649Z",
     "start_time": "2025-03-30T10:33:08.179390Z"
    }
   },
   "cell_type": "code",
   "source": "(expr ** sp.Rational(1, 5)) ** sp.Rational(1, 3)",
   "id": "f3653e2387066ed8",
   "outputs": [
    {
     "data": {
      "text/plain": [
       "x**(1/45)"
      ],
      "text/latex": "$\\displaystyle \\sqrt[45]{x}$"
     },
     "execution_count": 15,
     "metadata": {},
     "output_type": "execute_result"
    }
   ],
   "execution_count": 15
  },
  {
   "metadata": {},
   "cell_type": "markdown",
   "source": "### Important Constants",
   "id": "c21b5f60e4e7421a"
  },
  {
   "metadata": {
    "ExecuteTime": {
     "end_time": "2025-03-30T10:33:52.423520Z",
     "start_time": "2025-03-30T10:33:52.418589Z"
    }
   },
   "cell_type": "code",
   "source": [
    "# The constant pi\n",
    "3* sp.pi"
   ],
   "id": "968fc0ae0dc0eb0e",
   "outputs": [
    {
     "data": {
      "text/plain": [
       "3*pi"
      ],
      "text/latex": "$\\displaystyle 3 \\pi$"
     },
     "execution_count": 16,
     "metadata": {},
     "output_type": "execute_result"
    }
   ],
   "execution_count": 16
  },
  {
   "metadata": {
    "ExecuteTime": {
     "end_time": "2025-03-30T10:34:11.949506Z",
     "start_time": "2025-03-30T10:34:11.907332Z"
    }
   },
   "cell_type": "code",
   "source": [
    "# The constant e\n",
    "sp.E + sp.pi"
   ],
   "id": "3160549dcd98fde5",
   "outputs": [
    {
     "data": {
      "text/plain": [
       "E + pi"
      ],
      "text/latex": "$\\displaystyle e + \\pi$"
     },
     "execution_count": 17,
     "metadata": {},
     "output_type": "execute_result"
    }
   ],
   "execution_count": 17
  },
  {
   "metadata": {
    "ExecuteTime": {
     "end_time": "2025-03-30T10:34:47.797048Z",
     "start_time": "2025-03-30T10:34:47.791774Z"
    }
   },
   "cell_type": "code",
   "source": [
    "# Infinity\n",
    "sp.oo + sp.pi"
   ],
   "id": "be4e6cef45fb95f5",
   "outputs": [
    {
     "data": {
      "text/plain": [
       "oo"
      ],
      "text/latex": "$\\displaystyle \\infty$"
     },
     "execution_count": 19,
     "metadata": {},
     "output_type": "execute_result"
    }
   ],
   "execution_count": 19
  },
  {
   "metadata": {
    "ExecuteTime": {
     "end_time": "2025-03-30T10:35:05.498827Z",
     "start_time": "2025-03-30T10:35:05.494325Z"
    }
   },
   "cell_type": "code",
   "source": "sp.oo - sp.oo",
   "id": "8586b1ada8240294",
   "outputs": [
    {
     "data": {
      "text/plain": [
       "nan"
      ],
      "text/latex": "$\\displaystyle \\text{NaN}$"
     },
     "execution_count": 20,
     "metadata": {},
     "output_type": "execute_result"
    }
   ],
   "execution_count": 20
  },
  {
   "metadata": {
    "ExecuteTime": {
     "end_time": "2025-03-30T10:35:39.251668Z",
     "start_time": "2025-03-30T10:35:39.247002Z"
    }
   },
   "cell_type": "code",
   "source": [
    "# The imaginary unit\n",
    "sp.I"
   ],
   "id": "52bbf972698e8f5a",
   "outputs": [
    {
     "data": {
      "text/plain": [
       "I"
      ],
      "text/latex": "$\\displaystyle i$"
     },
     "execution_count": 21,
     "metadata": {},
     "output_type": "execute_result"
    }
   ],
   "execution_count": 21
  },
  {
   "metadata": {
    "ExecuteTime": {
     "end_time": "2025-03-30T10:35:58.405333Z",
     "start_time": "2025-03-30T10:35:58.400791Z"
    }
   },
   "cell_type": "code",
   "source": [
    "# Complex arithmetic is implimented\n",
    "sp.I ** 2"
   ],
   "id": "943e12feb74bc31a",
   "outputs": [
    {
     "data": {
      "text/plain": [
       "-1"
      ],
      "text/latex": "$\\displaystyle -1$"
     },
     "execution_count": 22,
     "metadata": {},
     "output_type": "execute_result"
    }
   ],
   "execution_count": 22
  },
  {
   "metadata": {},
   "cell_type": "markdown",
   "source": "### Common Funcitons",
   "id": "7d5c6c463ad6b49b"
  },
  {
   "metadata": {
    "ExecuteTime": {
     "end_time": "2025-03-30T10:36:38.518197Z",
     "start_time": "2025-03-30T10:36:38.510804Z"
    }
   },
   "cell_type": "code",
   "source": [
    "# Exponential Funcitons\n",
    "sp.exp(x)"
   ],
   "id": "db775eadd2af5fd9",
   "outputs": [
    {
     "data": {
      "text/plain": [
       "exp(x)"
      ],
      "text/latex": "$\\displaystyle e^{x}$"
     },
     "execution_count": 23,
     "metadata": {},
     "output_type": "execute_result"
    }
   ],
   "execution_count": 23
  },
  {
   "metadata": {
    "ExecuteTime": {
     "end_time": "2025-03-30T10:37:13.360387Z",
     "start_time": "2025-03-30T10:37:13.352884Z"
    }
   },
   "cell_type": "code",
   "source": [
    "# Euler's Identity\n",
    "sp.exp(sp.pi * sp.I)"
   ],
   "id": "d2cf251bb4f06f44",
   "outputs": [
    {
     "data": {
      "text/plain": [
       "-1"
      ],
      "text/latex": "$\\displaystyle -1$"
     },
     "execution_count": 25,
     "metadata": {},
     "output_type": "execute_result"
    }
   ],
   "execution_count": 25
  },
  {
   "metadata": {
    "ExecuteTime": {
     "end_time": "2025-03-30T10:37:58.792288Z",
     "start_time": "2025-03-30T10:37:58.787228Z"
    }
   },
   "cell_type": "code",
   "source": [
    "# Logarithm function\n",
    "sp.log(x)"
   ],
   "id": "5f4323e707392a50",
   "outputs": [
    {
     "data": {
      "text/plain": [
       "log(x)"
      ],
      "text/latex": "$\\displaystyle \\log{\\left(x \\right)}$"
     },
     "execution_count": 26,
     "metadata": {},
     "output_type": "execute_result"
    }
   ],
   "execution_count": 26
  },
  {
   "metadata": {
    "ExecuteTime": {
     "end_time": "2025-03-30T10:38:11.722727Z",
     "start_time": "2025-03-30T10:38:11.717351Z"
    }
   },
   "cell_type": "code",
   "source": "sp.exp(sp.log(x))",
   "id": "c6481614177d65e8",
   "outputs": [
    {
     "data": {
      "text/plain": [
       "x"
      ],
      "text/latex": "$\\displaystyle x$"
     },
     "execution_count": 27,
     "metadata": {},
     "output_type": "execute_result"
    }
   ],
   "execution_count": 27
  },
  {
   "metadata": {},
   "cell_type": "markdown",
   "source": "### Trigonometric functions",
   "id": "f8609b046ddd4ba2"
  },
  {
   "metadata": {
    "ExecuteTime": {
     "end_time": "2025-03-30T10:39:05.946607Z",
     "start_time": "2025-03-30T10:39:05.940404Z"
    }
   },
   "cell_type": "code",
   "source": "sp.sin(x) + sp.cos(x) + sp.tan(x)",
   "id": "6239ee9a402a3e62",
   "outputs": [
    {
     "data": {
      "text/plain": [
       "sin(x) + cos(x) + tan(x)"
      ],
      "text/latex": "$\\displaystyle \\sin{\\left(x \\right)} + \\cos{\\left(x \\right)} + \\tan{\\left(x \\right)}$"
     },
     "execution_count": 28,
     "metadata": {},
     "output_type": "execute_result"
    }
   ],
   "execution_count": 28
  },
  {
   "metadata": {
    "ExecuteTime": {
     "end_time": "2025-03-30T10:39:52.514600Z",
     "start_time": "2025-03-30T10:39:52.508795Z"
    }
   },
   "cell_type": "code",
   "source": [
    "expr = x**2 + sp.sin(sp.pi * x) + sp.cos(sp.cos(x))\n",
    "expr"
   ],
   "id": "6a76ad955ca08be1",
   "outputs": [
    {
     "data": {
      "text/plain": [
       "x**2 + sin(pi*x) + cos(cos(x))"
      ],
      "text/latex": "$\\displaystyle x^{2} + \\sin{\\left(\\pi x \\right)} + \\cos{\\left(\\cos{\\left(x \\right)} \\right)}$"
     },
     "execution_count": 30,
     "metadata": {},
     "output_type": "execute_result"
    }
   ],
   "execution_count": 30
  }
 ],
 "metadata": {
  "kernelspec": {
   "display_name": "Python 3",
   "language": "python",
   "name": "python3"
  },
  "language_info": {
   "codemirror_mode": {
    "name": "ipython",
    "version": 2
   },
   "file_extension": ".py",
   "mimetype": "text/x-python",
   "name": "python",
   "nbconvert_exporter": "python",
   "pygments_lexer": "ipython2",
   "version": "2.7.6"
  }
 },
 "nbformat": 4,
 "nbformat_minor": 5
}
