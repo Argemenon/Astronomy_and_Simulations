{
 "cells": [
  {
   "metadata": {},
   "cell_type": "markdown",
   "source": "# Going Numerical",
   "id": "e9bcab9944128d2c"
  },
  {
   "cell_type": "code",
   "id": "initial_id",
   "metadata": {
    "collapsed": true,
    "ExecuteTime": {
     "end_time": "2025-03-30T17:07:12.729537Z",
     "start_time": "2025-03-30T17:07:11.752891Z"
    }
   },
   "source": [
    "import sympy as sp\n",
    "import numpy as np\n",
    "import matplotlib.pyplot as plt\n",
    "\n",
    "x = sp.Symbol('x')"
   ],
   "outputs": [],
   "execution_count": 16
  },
  {
   "metadata": {},
   "cell_type": "markdown",
   "source": "## Floating-Point Numbers with Evalf",
   "id": "d15c8fef725dee00"
  },
  {
   "metadata": {
    "ExecuteTime": {
     "end_time": "2025-03-30T17:01:07.901605Z",
     "start_time": "2025-03-30T17:01:07.854160Z"
    }
   },
   "cell_type": "code",
   "source": [
    "# Creating an expression\n",
    "\n",
    "expr = sp.pi * x ** 2 + 5 * x + sp.E\n",
    "expr"
   ],
   "id": "c6cf1ab84aac238d",
   "outputs": [
    {
     "data": {
      "text/plain": [
       "pi*x**2 + 5*x + E"
      ],
      "text/latex": "$\\displaystyle \\pi x^{2} + 5 x + e$"
     },
     "execution_count": 2,
     "metadata": {},
     "output_type": "execute_result"
    }
   ],
   "execution_count": 2
  },
  {
   "metadata": {
    "ExecuteTime": {
     "end_time": "2025-03-30T17:01:36.543324Z",
     "start_time": "2025-03-30T17:01:36.536623Z"
    }
   },
   "cell_type": "code",
   "source": [
    "value = expr.subs(x, 1)\n",
    "value"
   ],
   "id": "c91b3df229202c44",
   "outputs": [
    {
     "data": {
      "text/plain": [
       "E + pi + 5"
      ],
      "text/latex": "$\\displaystyle e + \\pi + 5$"
     },
     "execution_count": 4,
     "metadata": {},
     "output_type": "execute_result"
    }
   ],
   "execution_count": 4
  },
  {
   "metadata": {
    "ExecuteTime": {
     "end_time": "2025-03-30T17:01:53.153950Z",
     "start_time": "2025-03-30T17:01:53.147278Z"
    }
   },
   "cell_type": "code",
   "source": "value.evalf(4)",
   "id": "d2b0c2f2d23613b2",
   "outputs": [
    {
     "data": {
      "text/plain": [
       "10.86"
      ],
      "text/latex": "$\\displaystyle 10.86$"
     },
     "execution_count": 6,
     "metadata": {},
     "output_type": "execute_result"
    }
   ],
   "execution_count": 6
  },
  {
   "metadata": {
    "ExecuteTime": {
     "end_time": "2025-03-30T17:02:22.029039Z",
     "start_time": "2025-03-30T17:02:22.023320Z"
    }
   },
   "cell_type": "code",
   "source": "sp.N(value, 4)",
   "id": "3a596916fe9a2fef",
   "outputs": [
    {
     "data": {
      "text/plain": [
       "10.86"
      ],
      "text/latex": "$\\displaystyle 10.86$"
     },
     "execution_count": 7,
     "metadata": {},
     "output_type": "execute_result"
    }
   ],
   "execution_count": 7
  },
  {
   "metadata": {},
   "cell_type": "markdown",
   "source": "## Using Lambdify",
   "id": "31195a82b2635fc"
  },
  {
   "metadata": {
    "ExecuteTime": {
     "end_time": "2025-03-30T17:04:27.406265Z",
     "start_time": "2025-03-30T17:04:27.398937Z"
    }
   },
   "cell_type": "code",
   "source": [
    "expr = sp.pi * x ** 2 + 5 * x + sp.E\n",
    "\n",
    "lambdified_expr = sp.lambdify(x, expr)\n",
    "lambdified_expr"
   ],
   "id": "1a96de49c8f57f07",
   "outputs": [
    {
     "data": {
      "text/plain": [
       "<function _lambdifygenerated(x)>"
      ]
     },
     "execution_count": 9,
     "metadata": {},
     "output_type": "execute_result"
    }
   ],
   "execution_count": 9
  },
  {
   "metadata": {
    "ExecuteTime": {
     "end_time": "2025-03-30T17:04:45.894629Z",
     "start_time": "2025-03-30T17:04:45.890096Z"
    }
   },
   "cell_type": "code",
   "source": "lambdified_expr(3)",
   "id": "894324f66f5faf46",
   "outputs": [
    {
     "data": {
      "text/plain": [
       "45.99261571076719"
      ]
     },
     "execution_count": 10,
     "metadata": {},
     "output_type": "execute_result"
    }
   ],
   "execution_count": 10
  },
  {
   "metadata": {
    "ExecuteTime": {
     "end_time": "2025-03-30T17:06:06.332772Z",
     "start_time": "2025-03-30T17:06:06.329084Z"
    }
   },
   "cell_type": "code",
   "source": [
    "# Can use NumPy to create many points at once\n",
    "\n",
    "points = np.linspace(-20, 20, 1000)"
   ],
   "id": "9a1800b009484c8e",
   "outputs": [],
   "execution_count": 12
  },
  {
   "metadata": {
    "ExecuteTime": {
     "end_time": "2025-03-30T17:06:43.969908Z",
     "start_time": "2025-03-30T17:06:43.966757Z"
    }
   },
   "cell_type": "code",
   "source": [
    "# Can evaluate on all the points at once\n",
    "\n",
    "lambdified_points = lambdified_expr(points)"
   ],
   "id": "f2db63398e66d105",
   "outputs": [],
   "execution_count": 15
  },
  {
   "metadata": {
    "ExecuteTime": {
     "end_time": "2025-03-30T17:08:05.502176Z",
     "start_time": "2025-03-30T17:08:05.374647Z"
    }
   },
   "cell_type": "code",
   "source": [
    "# Using Matplotlib to plot the values\n",
    "\n",
    "plt.plot(points, lambdified_points)\n",
    "plt.title('Parabola')"
   ],
   "id": "9947611032cae118",
   "outputs": [
    {
     "data": {
      "text/plain": [
       "Text(0.5, 1.0, 'Parabola')"
      ]
     },
     "execution_count": 18,
     "metadata": {},
     "output_type": "execute_result"
    },
    {
     "data": {
      "text/plain": [
       "<Figure size 640x480 with 1 Axes>"
      ],
      "image/png": "[encoded data removed]"
     },
     "metadata": {},
     "output_type": "display_data"
    }
   ],
   "execution_count": 18
  }
 ],
 "metadata": {
  "kernelspec": {
   "display_name": "Python 3",
   "language": "python",
   "name": "python3"
  },
  "language_info": {
   "codemirror_mode": {
    "name": "ipython",
    "version": 2
   },
   "file_extension": ".py",
   "mimetype": "text/x-python",
   "name": "python",
   "nbconvert_exporter": "python",
   "pygments_lexer": "ipython2",
   "version": "2.7.6"
  }
 },
 "nbformat": 4,
 "nbformat_minor": 5
}
